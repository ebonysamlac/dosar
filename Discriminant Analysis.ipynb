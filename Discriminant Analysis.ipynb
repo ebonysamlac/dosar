{
  "cells": [
    {
      "cell_type": "markdown",
      "metadata": {
        "id": "view-in-github",
        "colab_type": "text"
      },
      "source": [
        "<a href=\"https://colab.research.google.com/github/ebonysamlac/dosar/blob/master/Discriminant%20Analysis.ipynb\" target=\"_parent\"><img src=\"https://colab.research.google.com/assets/colab-badge.svg\" alt=\"Open In Colab\"/></a>"
      ]
    },
    {
      "cell_type": "markdown",
      "metadata": {
        "id": "ucr6Izr2Ft6D"
      },
      "source": [
        "**PART 2 : PRACTICAL APPLICATION**"
      ]
    },
    {
      "cell_type": "code",
      "execution_count": null,
      "metadata": {
        "colab": {
          "base_uri": "https://localhost:8080/",
          "height": 212
        },
        "id": "Ke0l8LHC69AP",
        "outputId": "d38f89c2-64c6-4183-abf1-07eb208749cf"
      },
      "outputs": [
        {
          "output_type": "display_data",
          "data": {
            "text/plain": [
              "<IPython.core.display.HTML object>"
            ],
            "text/html": [
              "\n",
              "     <input type=\"file\" id=\"files-07fe0cd6-d9dd-47d0-8da6-93fd0c438984\" name=\"files[]\" multiple disabled\n",
              "        style=\"border:none\" />\n",
              "     <output id=\"result-07fe0cd6-d9dd-47d0-8da6-93fd0c438984\">\n",
              "      Upload widget is only available when the cell has been executed in the\n",
              "      current browser session. Please rerun this cell to enable.\n",
              "      </output>\n",
              "      <script>// Copyright 2017 Google LLC\n",
              "//\n",
              "// Licensed under the Apache License, Version 2.0 (the \"License\");\n",
              "// you may not use this file except in compliance with the License.\n",
              "// You may obtain a copy of the License at\n",
              "//\n",
              "//      http://www.apache.org/licenses/LICENSE-2.0\n",
              "//\n",
              "// Unless required by applicable law or agreed to in writing, software\n",
              "// distributed under the License is distributed on an \"AS IS\" BASIS,\n",
              "// WITHOUT WARRANTIES OR CONDITIONS OF ANY KIND, either express or implied.\n",
              "// See the License for the specific language governing permissions and\n",
              "// limitations under the License.\n",
              "\n",
              "/**\n",
              " * @fileoverview Helpers for google.colab Python module.\n",
              " */\n",
              "(function(scope) {\n",
              "function span(text, styleAttributes = {}) {\n",
              "  const element = document.createElement('span');\n",
              "  element.textContent = text;\n",
              "  for (const key of Object.keys(styleAttributes)) {\n",
              "    element.style[key] = styleAttributes[key];\n",
              "  }\n",
              "  return element;\n",
              "}\n",
              "\n",
              "// Max number of bytes which will be uploaded at a time.\n",
              "const MAX_PAYLOAD_SIZE = 100 * 1024;\n",
              "\n",
              "function _uploadFiles(inputId, outputId) {\n",
              "  const steps = uploadFilesStep(inputId, outputId);\n",
              "  const outputElement = document.getElementById(outputId);\n",
              "  // Cache steps on the outputElement to make it available for the next call\n",
              "  // to uploadFilesContinue from Python.\n",
              "  outputElement.steps = steps;\n",
              "\n",
              "  return _uploadFilesContinue(outputId);\n",
              "}\n",
              "\n",
              "// This is roughly an async generator (not supported in the browser yet),\n",
              "// where there are multiple asynchronous steps and the Python side is going\n",
              "// to poll for completion of each step.\n",
              "// This uses a Promise to block the python side on completion of each step,\n",
              "// then passes the result of the previous step as the input to the next step.\n",
              "function _uploadFilesContinue(outputId) {\n",
              "  const outputElement = document.getElementById(outputId);\n",
              "  const steps = outputElement.steps;\n",
              "\n",
              "  const next = steps.next(outputElement.lastPromiseValue);\n",
              "  return Promise.resolve(next.value.promise).then((value) => {\n",
              "    // Cache the last promise value to make it available to the next\n",
              "    // step of the generator.\n",
              "    outputElement.lastPromiseValue = value;\n",
              "    return next.value.response;\n",
              "  });\n",
              "}\n",
              "\n",
              "/**\n",
              " * Generator function which is called between each async step of the upload\n",
              " * process.\n",
              " * @param {string} inputId Element ID of the input file picker element.\n",
              " * @param {string} outputId Element ID of the output display.\n",
              " * @return {!Iterable<!Object>} Iterable of next steps.\n",
              " */\n",
              "function* uploadFilesStep(inputId, outputId) {\n",
              "  const inputElement = document.getElementById(inputId);\n",
              "  inputElement.disabled = false;\n",
              "\n",
              "  const outputElement = document.getElementById(outputId);\n",
              "  outputElement.innerHTML = '';\n",
              "\n",
              "  const pickedPromise = new Promise((resolve) => {\n",
              "    inputElement.addEventListener('change', (e) => {\n",
              "      resolve(e.target.files);\n",
              "    });\n",
              "  });\n",
              "\n",
              "  const cancel = document.createElement('button');\n",
              "  inputElement.parentElement.appendChild(cancel);\n",
              "  cancel.textContent = 'Cancel upload';\n",
              "  const cancelPromise = new Promise((resolve) => {\n",
              "    cancel.onclick = () => {\n",
              "      resolve(null);\n",
              "    };\n",
              "  });\n",
              "\n",
              "  // Wait for the user to pick the files.\n",
              "  const files = yield {\n",
              "    promise: Promise.race([pickedPromise, cancelPromise]),\n",
              "    response: {\n",
              "      action: 'starting',\n",
              "    }\n",
              "  };\n",
              "\n",
              "  cancel.remove();\n",
              "\n",
              "  // Disable the input element since further picks are not allowed.\n",
              "  inputElement.disabled = true;\n",
              "\n",
              "  if (!files) {\n",
              "    return {\n",
              "      response: {\n",
              "        action: 'complete',\n",
              "      }\n",
              "    };\n",
              "  }\n",
              "\n",
              "  for (const file of files) {\n",
              "    const li = document.createElement('li');\n",
              "    li.append(span(file.name, {fontWeight: 'bold'}));\n",
              "    li.append(span(\n",
              "        `(${file.type || 'n/a'}) - ${file.size} bytes, ` +\n",
              "        `last modified: ${\n",
              "            file.lastModifiedDate ? file.lastModifiedDate.toLocaleDateString() :\n",
              "                                    'n/a'} - `));\n",
              "    const percent = span('0% done');\n",
              "    li.appendChild(percent);\n",
              "\n",
              "    outputElement.appendChild(li);\n",
              "\n",
              "    const fileDataPromise = new Promise((resolve) => {\n",
              "      const reader = new FileReader();\n",
              "      reader.onload = (e) => {\n",
              "        resolve(e.target.result);\n",
              "      };\n",
              "      reader.readAsArrayBuffer(file);\n",
              "    });\n",
              "    // Wait for the data to be ready.\n",
              "    let fileData = yield {\n",
              "      promise: fileDataPromise,\n",
              "      response: {\n",
              "        action: 'continue',\n",
              "      }\n",
              "    };\n",
              "\n",
              "    // Use a chunked sending to avoid message size limits. See b/62115660.\n",
              "    let position = 0;\n",
              "    do {\n",
              "      const length = Math.min(fileData.byteLength - position, MAX_PAYLOAD_SIZE);\n",
              "      const chunk = new Uint8Array(fileData, position, length);\n",
              "      position += length;\n",
              "\n",
              "      const base64 = btoa(String.fromCharCode.apply(null, chunk));\n",
              "      yield {\n",
              "        response: {\n",
              "          action: 'append',\n",
              "          file: file.name,\n",
              "          data: base64,\n",
              "        },\n",
              "      };\n",
              "\n",
              "      let percentDone = fileData.byteLength === 0 ?\n",
              "          100 :\n",
              "          Math.round((position / fileData.byteLength) * 100);\n",
              "      percent.textContent = `${percentDone}% done`;\n",
              "\n",
              "    } while (position < fileData.byteLength);\n",
              "  }\n",
              "\n",
              "  // All done.\n",
              "  yield {\n",
              "    response: {\n",
              "      action: 'complete',\n",
              "    }\n",
              "  };\n",
              "}\n",
              "\n",
              "scope.google = scope.google || {};\n",
              "scope.google.colab = scope.google.colab || {};\n",
              "scope.google.colab._files = {\n",
              "  _uploadFiles,\n",
              "  _uploadFilesContinue,\n",
              "};\n",
              "})(self);\n",
              "</script> "
            ]
          },
          "metadata": {}
        },
        {
          "output_type": "stream",
          "name": "stdout",
          "text": [
            "Saving auto.txt to auto.txt\n",
            "Saving x_test.csv to x_test.csv\n",
            "Saving x_train.csv to x_train.csv\n",
            "Saving y_test.csv to y_test.csv\n",
            "Saving y_train.csv to y_train.csv\n"
          ]
        }
      ],
      "source": [
        "import pandas as pd\n",
        "from google.colab import files\n",
        "uploaded = files.upload()"
      ]
    },
    {
      "cell_type": "code",
      "execution_count": null,
      "metadata": {
        "id": "56rzmOLp7vWM",
        "colab": {
          "base_uri": "https://localhost:8080/",
          "height": 206
        },
        "outputId": "e62d1ec2-3d1e-4eb5-9b49-f3a149e8c0e7"
      },
      "outputs": [
        {
          "output_type": "execute_result",
          "data": {
            "text/plain": [
              "    mpg  cylinders  displacement  horsepower  weight  acceleration  year  \\\n",
              "0  18.0          8         307.0         130    3504          12.0    70   \n",
              "1  15.0          8         350.0         165    3693          11.5    70   \n",
              "2  18.0          8         318.0         150    3436          11.0    70   \n",
              "3  16.0          8         304.0         150    3433          12.0    70   \n",
              "4  17.0          8         302.0         140    3449          10.5    70   \n",
              "\n",
              "   origin                       name  \n",
              "0       1  chevrolet chevelle malibu  \n",
              "1       1          buick skylark 320  \n",
              "2       1         plymouth satellite  \n",
              "3       1              amc rebel sst  \n",
              "4       1                ford torino  "
            ],
            "text/html": [
              "\n",
              "  <div id=\"df-ed385bb2-ada6-4920-baa0-e010672cf4e0\">\n",
              "    <div class=\"colab-df-container\">\n",
              "      <div>\n",
              "<style scoped>\n",
              "    .dataframe tbody tr th:only-of-type {\n",
              "        vertical-align: middle;\n",
              "    }\n",
              "\n",
              "    .dataframe tbody tr th {\n",
              "        vertical-align: top;\n",
              "    }\n",
              "\n",
              "    .dataframe thead th {\n",
              "        text-align: right;\n",
              "    }\n",
              "</style>\n",
              "<table border=\"1\" class=\"dataframe\">\n",
              "  <thead>\n",
              "    <tr style=\"text-align: right;\">\n",
              "      <th></th>\n",
              "      <th>mpg</th>\n",
              "      <th>cylinders</th>\n",
              "      <th>displacement</th>\n",
              "      <th>horsepower</th>\n",
              "      <th>weight</th>\n",
              "      <th>acceleration</th>\n",
              "      <th>year</th>\n",
              "      <th>origin</th>\n",
              "      <th>name</th>\n",
              "    </tr>\n",
              "  </thead>\n",
              "  <tbody>\n",
              "    <tr>\n",
              "      <th>0</th>\n",
              "      <td>18.0</td>\n",
              "      <td>8</td>\n",
              "      <td>307.0</td>\n",
              "      <td>130</td>\n",
              "      <td>3504</td>\n",
              "      <td>12.0</td>\n",
              "      <td>70</td>\n",
              "      <td>1</td>\n",
              "      <td>chevrolet chevelle malibu</td>\n",
              "    </tr>\n",
              "    <tr>\n",
              "      <th>1</th>\n",
              "      <td>15.0</td>\n",
              "      <td>8</td>\n",
              "      <td>350.0</td>\n",
              "      <td>165</td>\n",
              "      <td>3693</td>\n",
              "      <td>11.5</td>\n",
              "      <td>70</td>\n",
              "      <td>1</td>\n",
              "      <td>buick skylark 320</td>\n",
              "    </tr>\n",
              "    <tr>\n",
              "      <th>2</th>\n",
              "      <td>18.0</td>\n",
              "      <td>8</td>\n",
              "      <td>318.0</td>\n",
              "      <td>150</td>\n",
              "      <td>3436</td>\n",
              "      <td>11.0</td>\n",
              "      <td>70</td>\n",
              "      <td>1</td>\n",
              "      <td>plymouth satellite</td>\n",
              "    </tr>\n",
              "    <tr>\n",
              "      <th>3</th>\n",
              "      <td>16.0</td>\n",
              "      <td>8</td>\n",
              "      <td>304.0</td>\n",
              "      <td>150</td>\n",
              "      <td>3433</td>\n",
              "      <td>12.0</td>\n",
              "      <td>70</td>\n",
              "      <td>1</td>\n",
              "      <td>amc rebel sst</td>\n",
              "    </tr>\n",
              "    <tr>\n",
              "      <th>4</th>\n",
              "      <td>17.0</td>\n",
              "      <td>8</td>\n",
              "      <td>302.0</td>\n",
              "      <td>140</td>\n",
              "      <td>3449</td>\n",
              "      <td>10.5</td>\n",
              "      <td>70</td>\n",
              "      <td>1</td>\n",
              "      <td>ford torino</td>\n",
              "    </tr>\n",
              "  </tbody>\n",
              "</table>\n",
              "</div>\n",
              "      <button class=\"colab-df-convert\" onclick=\"convertToInteractive('df-ed385bb2-ada6-4920-baa0-e010672cf4e0')\"\n",
              "              title=\"Convert this dataframe to an interactive table.\"\n",
              "              style=\"display:none;\">\n",
              "        \n",
              "  <svg xmlns=\"http://www.w3.org/2000/svg\" height=\"24px\"viewBox=\"0 0 24 24\"\n",
              "       width=\"24px\">\n",
              "    <path d=\"M0 0h24v24H0V0z\" fill=\"none\"/>\n",
              "    <path d=\"M18.56 5.44l.94 2.06.94-2.06 2.06-.94-2.06-.94-.94-2.06-.94 2.06-2.06.94zm-11 1L8.5 8.5l.94-2.06 2.06-.94-2.06-.94L8.5 2.5l-.94 2.06-2.06.94zm10 10l.94 2.06.94-2.06 2.06-.94-2.06-.94-.94-2.06-.94 2.06-2.06.94z\"/><path d=\"M17.41 7.96l-1.37-1.37c-.4-.4-.92-.59-1.43-.59-.52 0-1.04.2-1.43.59L10.3 9.45l-7.72 7.72c-.78.78-.78 2.05 0 2.83L4 21.41c.39.39.9.59 1.41.59.51 0 1.02-.2 1.41-.59l7.78-7.78 2.81-2.81c.8-.78.8-2.07 0-2.86zM5.41 20L4 18.59l7.72-7.72 1.47 1.35L5.41 20z\"/>\n",
              "  </svg>\n",
              "      </button>\n",
              "      \n",
              "  <style>\n",
              "    .colab-df-container {\n",
              "      display:flex;\n",
              "      flex-wrap:wrap;\n",
              "      gap: 12px;\n",
              "    }\n",
              "\n",
              "    .colab-df-convert {\n",
              "      background-color: #E8F0FE;\n",
              "      border: none;\n",
              "      border-radius: 50%;\n",
              "      cursor: pointer;\n",
              "      display: none;\n",
              "      fill: #1967D2;\n",
              "      height: 32px;\n",
              "      padding: 0 0 0 0;\n",
              "      width: 32px;\n",
              "    }\n",
              "\n",
              "    .colab-df-convert:hover {\n",
              "      background-color: #E2EBFA;\n",
              "      box-shadow: 0px 1px 2px rgba(60, 64, 67, 0.3), 0px 1px 3px 1px rgba(60, 64, 67, 0.15);\n",
              "      fill: #174EA6;\n",
              "    }\n",
              "\n",
              "    [theme=dark] .colab-df-convert {\n",
              "      background-color: #3B4455;\n",
              "      fill: #D2E3FC;\n",
              "    }\n",
              "\n",
              "    [theme=dark] .colab-df-convert:hover {\n",
              "      background-color: #434B5C;\n",
              "      box-shadow: 0px 1px 3px 1px rgba(0, 0, 0, 0.15);\n",
              "      filter: drop-shadow(0px 1px 2px rgba(0, 0, 0, 0.3));\n",
              "      fill: #FFFFFF;\n",
              "    }\n",
              "  </style>\n",
              "\n",
              "      <script>\n",
              "        const buttonEl =\n",
              "          document.querySelector('#df-ed385bb2-ada6-4920-baa0-e010672cf4e0 button.colab-df-convert');\n",
              "        buttonEl.style.display =\n",
              "          google.colab.kernel.accessAllowed ? 'block' : 'none';\n",
              "\n",
              "        async function convertToInteractive(key) {\n",
              "          const element = document.querySelector('#df-ed385bb2-ada6-4920-baa0-e010672cf4e0');\n",
              "          const dataTable =\n",
              "            await google.colab.kernel.invokeFunction('convertToInteractive',\n",
              "                                                     [key], {});\n",
              "          if (!dataTable) return;\n",
              "\n",
              "          const docLinkHtml = 'Like what you see? Visit the ' +\n",
              "            '<a target=\"_blank\" href=https://colab.research.google.com/notebooks/data_table.ipynb>data table notebook</a>'\n",
              "            + ' to learn more about interactive tables.';\n",
              "          element.innerHTML = '';\n",
              "          dataTable['output_type'] = 'display_data';\n",
              "          await google.colab.output.renderOutput(dataTable, element);\n",
              "          const docLink = document.createElement('div');\n",
              "          docLink.innerHTML = docLinkHtml;\n",
              "          element.appendChild(docLink);\n",
              "        }\n",
              "      </script>\n",
              "    </div>\n",
              "  </div>\n",
              "  "
            ]
          },
          "metadata": {},
          "execution_count": 4
        }
      ],
      "source": [
        "auto=pd.read_csv(\"auto.txt\", sep=\";\")\n",
        "auto.head()"
      ]
    },
    {
      "cell_type": "markdown",
      "metadata": {
        "id": "kH3cHK-pGU9Z"
      },
      "source": [
        "Our dataset contains 8 features which are numerical variables and one class denoted name"
      ]
    },
    {
      "cell_type": "code",
      "execution_count": null,
      "metadata": {
        "id": "Xl4cyAiP86Ui",
        "colab": {
          "base_uri": "https://localhost:8080/"
        },
        "outputId": "8eae8087-9656-4dec-f4a5-b495d69c75cc"
      },
      "outputs": [
        {
          "output_type": "stream",
          "name": "stdout",
          "text": [
            "      mpg  cylinders  displacement  horsepower  weight  acceleration  year  \\\n",
            "0    18.0          8         307.0         130    3504          12.0    70   \n",
            "1    15.0          8         350.0         165    3693          11.5    70   \n",
            "2    18.0          8         318.0         150    3436          11.0    70   \n",
            "3    16.0          8         304.0         150    3433          12.0    70   \n",
            "4    17.0          8         302.0         140    3449          10.5    70   \n",
            "..    ...        ...           ...         ...     ...           ...   ...   \n",
            "295  38.0          6         262.0          85    3015          17.0    82   \n",
            "296  32.0          4         144.0          96    2665          13.9    82   \n",
            "297  36.0          4         135.0          84    2370          13.0    82   \n",
            "298  27.0          4         151.0          90    2950          17.3    82   \n",
            "299  32.0          4         135.0          84    2295          11.6    82   \n",
            "\n",
            "     origin                               name  mpg01  \n",
            "0         1          chevrolet chevelle malibu      0  \n",
            "1         1                  buick skylark 320      0  \n",
            "2         1                 plymouth satellite      0  \n",
            "3         1                      amc rebel sst      0  \n",
            "4         1                        ford torino      0  \n",
            "..      ...                                ...    ...  \n",
            "295       1  oldsmobile cutlass ciera (diesel)      1  \n",
            "296       3                   toyota celica gt      1  \n",
            "297       1                  dodge charger 2.2      1  \n",
            "298       1                   chevrolet camaro      1  \n",
            "299       1                      dodge rampage      1  \n",
            "\n",
            "[300 rows x 10 columns]\n"
          ]
        }
      ],
      "source": [
        "#In this part, we create a new variable denoted mpg_median in which we store the median of the column mgp\n",
        "mpg_median = auto[\"mpg\"].median()\n",
        "\n",
        "#We create the column mpg01 which contains only 1 or 0\n",
        "mpg01 = pd.get_dummies(auto[\"mpg\"] > mpg_median,drop_first=True)\n",
        "\n",
        "#We add the column mpg01 to our dataset auto\n",
        "auto['mpg01'] = mpg01\n",
        "print (auto)"
      ]
    },
    {
      "cell_type": "markdown",
      "metadata": {
        "id": "ve6thScOHADx"
      },
      "source": []
    },
    {
      "cell_type": "code",
      "execution_count": null,
      "metadata": {
        "id": "J-258Kto9iN_",
        "colab": {
          "base_uri": "https://localhost:8080/",
          "height": 300
        },
        "outputId": "cb249791-04a0-4449-956e-f20d78d7436c"
      },
      "outputs": [
        {
          "output_type": "execute_result",
          "data": {
            "text/plain": [
              "              mpg   cylinders  displacement  horsepower       weight  \\\n",
              "count  300.000000  300.000000    300.000000  300.000000   300.000000   \n",
              "mean    23.699333    5.433333    192.338333  104.050000  2945.846667   \n",
              "std      7.963814    1.717183    105.453661   38.959127   849.694403   \n",
              "min      9.000000    3.000000     68.000000   46.000000  1613.000000   \n",
              "25%     17.000000    4.000000     98.000000   75.000000  2212.500000   \n",
              "50%     23.600000    4.000000    140.000000   91.500000  2730.000000   \n",
              "75%     29.925000    8.000000    275.750000  129.000000  3526.250000   \n",
              "max     46.600000    8.000000    455.000000  230.000000  4997.000000   \n",
              "\n",
              "       acceleration       year      origin       mpg01  \n",
              "count    300.000000  300.00000  300.000000  300.000000  \n",
              "mean      15.460000   75.93000    1.616667    0.500000  \n",
              "std        2.729389    3.67015    0.827853    0.500835  \n",
              "min        8.000000   70.00000    1.000000    0.000000  \n",
              "25%       13.500000   73.00000    1.000000    0.000000  \n",
              "50%       15.400000   76.00000    1.000000    0.500000  \n",
              "75%       17.000000   79.00000    2.000000    1.000000  \n",
              "max       23.500000   82.00000    3.000000    1.000000  "
            ],
            "text/html": [
              "\n",
              "  <div id=\"df-e87a33ff-2285-4a9e-b643-bd5a257238e2\">\n",
              "    <div class=\"colab-df-container\">\n",
              "      <div>\n",
              "<style scoped>\n",
              "    .dataframe tbody tr th:only-of-type {\n",
              "        vertical-align: middle;\n",
              "    }\n",
              "\n",
              "    .dataframe tbody tr th {\n",
              "        vertical-align: top;\n",
              "    }\n",
              "\n",
              "    .dataframe thead th {\n",
              "        text-align: right;\n",
              "    }\n",
              "</style>\n",
              "<table border=\"1\" class=\"dataframe\">\n",
              "  <thead>\n",
              "    <tr style=\"text-align: right;\">\n",
              "      <th></th>\n",
              "      <th>mpg</th>\n",
              "      <th>cylinders</th>\n",
              "      <th>displacement</th>\n",
              "      <th>horsepower</th>\n",
              "      <th>weight</th>\n",
              "      <th>acceleration</th>\n",
              "      <th>year</th>\n",
              "      <th>origin</th>\n",
              "      <th>mpg01</th>\n",
              "    </tr>\n",
              "  </thead>\n",
              "  <tbody>\n",
              "    <tr>\n",
              "      <th>count</th>\n",
              "      <td>300.000000</td>\n",
              "      <td>300.000000</td>\n",
              "      <td>300.000000</td>\n",
              "      <td>300.000000</td>\n",
              "      <td>300.000000</td>\n",
              "      <td>300.000000</td>\n",
              "      <td>300.00000</td>\n",
              "      <td>300.000000</td>\n",
              "      <td>300.000000</td>\n",
              "    </tr>\n",
              "    <tr>\n",
              "      <th>mean</th>\n",
              "      <td>23.699333</td>\n",
              "      <td>5.433333</td>\n",
              "      <td>192.338333</td>\n",
              "      <td>104.050000</td>\n",
              "      <td>2945.846667</td>\n",
              "      <td>15.460000</td>\n",
              "      <td>75.93000</td>\n",
              "      <td>1.616667</td>\n",
              "      <td>0.500000</td>\n",
              "    </tr>\n",
              "    <tr>\n",
              "      <th>std</th>\n",
              "      <td>7.963814</td>\n",
              "      <td>1.717183</td>\n",
              "      <td>105.453661</td>\n",
              "      <td>38.959127</td>\n",
              "      <td>849.694403</td>\n",
              "      <td>2.729389</td>\n",
              "      <td>3.67015</td>\n",
              "      <td>0.827853</td>\n",
              "      <td>0.500835</td>\n",
              "    </tr>\n",
              "    <tr>\n",
              "      <th>min</th>\n",
              "      <td>9.000000</td>\n",
              "      <td>3.000000</td>\n",
              "      <td>68.000000</td>\n",
              "      <td>46.000000</td>\n",
              "      <td>1613.000000</td>\n",
              "      <td>8.000000</td>\n",
              "      <td>70.00000</td>\n",
              "      <td>1.000000</td>\n",
              "      <td>0.000000</td>\n",
              "    </tr>\n",
              "    <tr>\n",
              "      <th>25%</th>\n",
              "      <td>17.000000</td>\n",
              "      <td>4.000000</td>\n",
              "      <td>98.000000</td>\n",
              "      <td>75.000000</td>\n",
              "      <td>2212.500000</td>\n",
              "      <td>13.500000</td>\n",
              "      <td>73.00000</td>\n",
              "      <td>1.000000</td>\n",
              "      <td>0.000000</td>\n",
              "    </tr>\n",
              "    <tr>\n",
              "      <th>50%</th>\n",
              "      <td>23.600000</td>\n",
              "      <td>4.000000</td>\n",
              "      <td>140.000000</td>\n",
              "      <td>91.500000</td>\n",
              "      <td>2730.000000</td>\n",
              "      <td>15.400000</td>\n",
              "      <td>76.00000</td>\n",
              "      <td>1.000000</td>\n",
              "      <td>0.500000</td>\n",
              "    </tr>\n",
              "    <tr>\n",
              "      <th>75%</th>\n",
              "      <td>29.925000</td>\n",
              "      <td>8.000000</td>\n",
              "      <td>275.750000</td>\n",
              "      <td>129.000000</td>\n",
              "      <td>3526.250000</td>\n",
              "      <td>17.000000</td>\n",
              "      <td>79.00000</td>\n",
              "      <td>2.000000</td>\n",
              "      <td>1.000000</td>\n",
              "    </tr>\n",
              "    <tr>\n",
              "      <th>max</th>\n",
              "      <td>46.600000</td>\n",
              "      <td>8.000000</td>\n",
              "      <td>455.000000</td>\n",
              "      <td>230.000000</td>\n",
              "      <td>4997.000000</td>\n",
              "      <td>23.500000</td>\n",
              "      <td>82.00000</td>\n",
              "      <td>3.000000</td>\n",
              "      <td>1.000000</td>\n",
              "    </tr>\n",
              "  </tbody>\n",
              "</table>\n",
              "</div>\n",
              "      <button class=\"colab-df-convert\" onclick=\"convertToInteractive('df-e87a33ff-2285-4a9e-b643-bd5a257238e2')\"\n",
              "              title=\"Convert this dataframe to an interactive table.\"\n",
              "              style=\"display:none;\">\n",
              "        \n",
              "  <svg xmlns=\"http://www.w3.org/2000/svg\" height=\"24px\"viewBox=\"0 0 24 24\"\n",
              "       width=\"24px\">\n",
              "    <path d=\"M0 0h24v24H0V0z\" fill=\"none\"/>\n",
              "    <path d=\"M18.56 5.44l.94 2.06.94-2.06 2.06-.94-2.06-.94-.94-2.06-.94 2.06-2.06.94zm-11 1L8.5 8.5l.94-2.06 2.06-.94-2.06-.94L8.5 2.5l-.94 2.06-2.06.94zm10 10l.94 2.06.94-2.06 2.06-.94-2.06-.94-.94-2.06-.94 2.06-2.06.94z\"/><path d=\"M17.41 7.96l-1.37-1.37c-.4-.4-.92-.59-1.43-.59-.52 0-1.04.2-1.43.59L10.3 9.45l-7.72 7.72c-.78.78-.78 2.05 0 2.83L4 21.41c.39.39.9.59 1.41.59.51 0 1.02-.2 1.41-.59l7.78-7.78 2.81-2.81c.8-.78.8-2.07 0-2.86zM5.41 20L4 18.59l7.72-7.72 1.47 1.35L5.41 20z\"/>\n",
              "  </svg>\n",
              "      </button>\n",
              "      \n",
              "  <style>\n",
              "    .colab-df-container {\n",
              "      display:flex;\n",
              "      flex-wrap:wrap;\n",
              "      gap: 12px;\n",
              "    }\n",
              "\n",
              "    .colab-df-convert {\n",
              "      background-color: #E8F0FE;\n",
              "      border: none;\n",
              "      border-radius: 50%;\n",
              "      cursor: pointer;\n",
              "      display: none;\n",
              "      fill: #1967D2;\n",
              "      height: 32px;\n",
              "      padding: 0 0 0 0;\n",
              "      width: 32px;\n",
              "    }\n",
              "\n",
              "    .colab-df-convert:hover {\n",
              "      background-color: #E2EBFA;\n",
              "      box-shadow: 0px 1px 2px rgba(60, 64, 67, 0.3), 0px 1px 3px 1px rgba(60, 64, 67, 0.15);\n",
              "      fill: #174EA6;\n",
              "    }\n",
              "\n",
              "    [theme=dark] .colab-df-convert {\n",
              "      background-color: #3B4455;\n",
              "      fill: #D2E3FC;\n",
              "    }\n",
              "\n",
              "    [theme=dark] .colab-df-convert:hover {\n",
              "      background-color: #434B5C;\n",
              "      box-shadow: 0px 1px 3px 1px rgba(0, 0, 0, 0.15);\n",
              "      filter: drop-shadow(0px 1px 2px rgba(0, 0, 0, 0.3));\n",
              "      fill: #FFFFFF;\n",
              "    }\n",
              "  </style>\n",
              "\n",
              "      <script>\n",
              "        const buttonEl =\n",
              "          document.querySelector('#df-e87a33ff-2285-4a9e-b643-bd5a257238e2 button.colab-df-convert');\n",
              "        buttonEl.style.display =\n",
              "          google.colab.kernel.accessAllowed ? 'block' : 'none';\n",
              "\n",
              "        async function convertToInteractive(key) {\n",
              "          const element = document.querySelector('#df-e87a33ff-2285-4a9e-b643-bd5a257238e2');\n",
              "          const dataTable =\n",
              "            await google.colab.kernel.invokeFunction('convertToInteractive',\n",
              "                                                     [key], {});\n",
              "          if (!dataTable) return;\n",
              "\n",
              "          const docLinkHtml = 'Like what you see? Visit the ' +\n",
              "            '<a target=\"_blank\" href=https://colab.research.google.com/notebooks/data_table.ipynb>data table notebook</a>'\n",
              "            + ' to learn more about interactive tables.';\n",
              "          element.innerHTML = '';\n",
              "          dataTable['output_type'] = 'display_data';\n",
              "          await google.colab.output.renderOutput(dataTable, element);\n",
              "          const docLink = document.createElement('div');\n",
              "          docLink.innerHTML = docLinkHtml;\n",
              "          element.appendChild(docLink);\n",
              "        }\n",
              "      </script>\n",
              "    </div>\n",
              "  </div>\n",
              "  "
            ]
          },
          "metadata": {},
          "execution_count": 6
        }
      ],
      "source": [
        "#Description of our data\n",
        "auto.describe()"
      ]
    },
    {
      "cell_type": "markdown",
      "metadata": {
        "id": "qe4K73VAJoCF"
      },
      "source": [
        "We have a dataset containing 300 observation. For the features displacement, weight, and horsepower have dispersed data as there is much variance in their data. They are scattered around the mean in contrast to cylinders, origin and mpg01.\n"
      ]
    },
    {
      "cell_type": "code",
      "execution_count": null,
      "metadata": {
        "id": "XlG_X11z9qsX",
        "colab": {
          "base_uri": "https://localhost:8080/"
        },
        "outputId": "1fdc7cbb-6306-4558-ff15-05d251ba26a5"
      },
      "outputs": [
        {
          "output_type": "stream",
          "name": "stdout",
          "text": [
            "The median of mpg is : \n"
          ]
        },
        {
          "output_type": "execute_result",
          "data": {
            "text/plain": [
              "23.6"
            ]
          },
          "metadata": {},
          "execution_count": 7
        }
      ],
      "source": [
        "df = pd.DataFrame(auto)\n",
        "print('The median of mpg is : ')\n",
        "df['mpg'].median()"
      ]
    },
    {
      "cell_type": "code",
      "execution_count": null,
      "metadata": {
        "id": "uYaXgSPeCXeX"
      },
      "outputs": [],
      "source": [
        "\n",
        "\n",
        "# Dataset is now stored in a Pandas Dataframe"
      ]
    },
    {
      "cell_type": "code",
      "execution_count": null,
      "metadata": {
        "id": "g7Wq1Zo9CkYo",
        "colab": {
          "base_uri": "https://localhost:8080/"
        },
        "outputId": "7a128820-bf0a-461e-89b7-2856f3c2b988"
      },
      "outputs": [
        {
          "output_type": "stream",
          "name": "stdout",
          "text": [
            "   cylinders  displacement  horsepower  weight\n",
            "0          4         119.0          97    2405\n",
            "1          4          98.0          66    1800\n",
            "2          6         200.0          85    2587\n",
            "3          8         302.0         129    3725\n",
            "4          6         225.0          90    3381\n",
            "60\n"
          ]
        }
      ],
      "source": [
        "x_test =pd.read_csv(\"x_test.csv\", sep=\",\")\n",
        "df_x_test = pd.DataFrame(x_test)\n",
        "x_test = df_x_test.drop(columns=df_x_test.columns[0], axis=1)\n",
        "print(x_test.head())\n",
        "print(len(x_test.index))\n"
      ]
    },
    {
      "cell_type": "markdown",
      "source": [
        "Our dataset contains 60 observations"
      ],
      "metadata": {
        "id": "fjnw93041iK1"
      }
    },
    {
      "cell_type": "code",
      "execution_count": null,
      "metadata": {
        "id": "Rf0wHtiTCwfm",
        "colab": {
          "base_uri": "https://localhost:8080/"
        },
        "outputId": "5f527759-7045-4ebd-892f-b91b5a4a3d75"
      },
      "outputs": [
        {
          "output_type": "stream",
          "name": "stdout",
          "text": [
            "   cylinders  displacement  horsepower  weight\n",
            "0          4         115.0          95    2694\n",
            "1          6         250.0         105    3353\n",
            "2          4          97.0          92    2288\n",
            "3          4          91.0          67    1965\n",
            "4          4         151.0          90    2735\n",
            "240\n"
          ]
        }
      ],
      "source": [
        "x_train = pd.read_csv(\"x_train.csv\", sep=\",\")\n",
        "df_x_train = pd.DataFrame(x_train)\n",
        "x_train = df_x_train.drop(columns=df_x_train.columns[0], axis=1)\n",
        "print(x_train.head())\n",
        "print(len(x_train.index))"
      ]
    },
    {
      "cell_type": "markdown",
      "source": [
        "The x_train set contains 240 observations"
      ],
      "metadata": {
        "id": "R9dFWnuK2Dql"
      }
    },
    {
      "cell_type": "code",
      "execution_count": null,
      "metadata": {
        "id": "pFO360A3DggI",
        "colab": {
          "base_uri": "https://localhost:8080/"
        },
        "outputId": "a4c19fc4-c787-442e-e3fc-d9e6d70f3c6c"
      },
      "outputs": [
        {
          "output_type": "stream",
          "name": "stdout",
          "text": [
            "   mpg01\n",
            "0      1\n",
            "1      1\n",
            "2      0\n",
            "3      0\n",
            "4      0\n",
            "60\n"
          ]
        }
      ],
      "source": [
        "y_test = pd.read_csv(\"y_test.csv\", sep=\",\")\n",
        "df_y_test = pd.DataFrame(y_test)\n",
        "y_test = df_y_test.drop(columns=df_y_test.columns[0], axis=1)\n",
        "print(y_test.head())\n",
        "print(len(y_test.index))"
      ]
    },
    {
      "cell_type": "markdown",
      "source": [
        "The y_test set contains 60 observations as the y_test set\n",
        "\n"
      ],
      "metadata": {
        "id": "MZYQYwhCsy3m"
      }
    },
    {
      "cell_type": "code",
      "execution_count": null,
      "metadata": {
        "id": "RxI3TKwWD3Bt",
        "colab": {
          "base_uri": "https://localhost:8080/"
        },
        "outputId": "23372488-de83-4dae-e266-3afb465ef253"
      },
      "outputs": [
        {
          "output_type": "stream",
          "name": "stdout",
          "text": [
            "     mpg01\n",
            "0        0\n",
            "1        0\n",
            "2        1\n",
            "3        1\n",
            "4        1\n",
            "..     ...\n",
            "235      1\n",
            "236      0\n",
            "237      0\n",
            "238      0\n",
            "239      0\n",
            "\n",
            "[240 rows x 1 columns]\n",
            "240\n"
          ]
        }
      ],
      "source": [
        "y_train = pd.read_csv(\"y_train.csv\", sep=\",\")\n",
        "df_y_train = pd.DataFrame(y_train)\n",
        "y_train = df_y_train.drop(columns=df_y_train.columns[0], axis=1)\n",
        "print(y_train)\n",
        "print(len(y_train.index))"
      ]
    },
    {
      "cell_type": "markdown",
      "source": [
        "the y_train set contains 240 observations as the x_train set"
      ],
      "metadata": {
        "id": "BFe6Z3n45fG-"
      }
    },
    {
      "cell_type": "markdown",
      "source": [
        "We can find the same results by using the function describe, the result is consigned in the row count of the table."
      ],
      "metadata": {
        "id": "6AECcJTa5yaQ"
      }
    },
    {
      "cell_type": "code",
      "execution_count": null,
      "metadata": {
        "id": "3iUeyFWREAAZ",
        "colab": {
          "base_uri": "https://localhost:8080/",
          "height": 300
        },
        "outputId": "90516d38-094b-456b-d18e-36f94c4a0bdc"
      },
      "outputs": [
        {
          "output_type": "execute_result",
          "data": {
            "text/plain": [
              "        cylinders  displacement  horsepower       weight\n",
              "count  240.000000    240.000000  240.000000   240.000000\n",
              "mean     5.404167    188.852083  102.691667  2922.237500\n",
              "std      1.711145    104.014100   37.949933   840.326569\n",
              "min      3.000000     70.000000   46.000000  1613.000000\n",
              "25%      4.000000     98.000000   75.000000  2199.000000\n",
              "50%      4.000000    140.000000   90.000000  2718.000000\n",
              "75%      8.000000    260.500000  122.750000  3440.500000\n",
              "max      8.000000    455.000000  225.000000  4955.000000"
            ],
            "text/html": [
              "\n",
              "  <div id=\"df-40a2c26a-2900-4138-b2d0-105c652ed8ac\">\n",
              "    <div class=\"colab-df-container\">\n",
              "      <div>\n",
              "<style scoped>\n",
              "    .dataframe tbody tr th:only-of-type {\n",
              "        vertical-align: middle;\n",
              "    }\n",
              "\n",
              "    .dataframe tbody tr th {\n",
              "        vertical-align: top;\n",
              "    }\n",
              "\n",
              "    .dataframe thead th {\n",
              "        text-align: right;\n",
              "    }\n",
              "</style>\n",
              "<table border=\"1\" class=\"dataframe\">\n",
              "  <thead>\n",
              "    <tr style=\"text-align: right;\">\n",
              "      <th></th>\n",
              "      <th>cylinders</th>\n",
              "      <th>displacement</th>\n",
              "      <th>horsepower</th>\n",
              "      <th>weight</th>\n",
              "    </tr>\n",
              "  </thead>\n",
              "  <tbody>\n",
              "    <tr>\n",
              "      <th>count</th>\n",
              "      <td>240.000000</td>\n",
              "      <td>240.000000</td>\n",
              "      <td>240.000000</td>\n",
              "      <td>240.000000</td>\n",
              "    </tr>\n",
              "    <tr>\n",
              "      <th>mean</th>\n",
              "      <td>5.404167</td>\n",
              "      <td>188.852083</td>\n",
              "      <td>102.691667</td>\n",
              "      <td>2922.237500</td>\n",
              "    </tr>\n",
              "    <tr>\n",
              "      <th>std</th>\n",
              "      <td>1.711145</td>\n",
              "      <td>104.014100</td>\n",
              "      <td>37.949933</td>\n",
              "      <td>840.326569</td>\n",
              "    </tr>\n",
              "    <tr>\n",
              "      <th>min</th>\n",
              "      <td>3.000000</td>\n",
              "      <td>70.000000</td>\n",
              "      <td>46.000000</td>\n",
              "      <td>1613.000000</td>\n",
              "    </tr>\n",
              "    <tr>\n",
              "      <th>25%</th>\n",
              "      <td>4.000000</td>\n",
              "      <td>98.000000</td>\n",
              "      <td>75.000000</td>\n",
              "      <td>2199.000000</td>\n",
              "    </tr>\n",
              "    <tr>\n",
              "      <th>50%</th>\n",
              "      <td>4.000000</td>\n",
              "      <td>140.000000</td>\n",
              "      <td>90.000000</td>\n",
              "      <td>2718.000000</td>\n",
              "    </tr>\n",
              "    <tr>\n",
              "      <th>75%</th>\n",
              "      <td>8.000000</td>\n",
              "      <td>260.500000</td>\n",
              "      <td>122.750000</td>\n",
              "      <td>3440.500000</td>\n",
              "    </tr>\n",
              "    <tr>\n",
              "      <th>max</th>\n",
              "      <td>8.000000</td>\n",
              "      <td>455.000000</td>\n",
              "      <td>225.000000</td>\n",
              "      <td>4955.000000</td>\n",
              "    </tr>\n",
              "  </tbody>\n",
              "</table>\n",
              "</div>\n",
              "      <button class=\"colab-df-convert\" onclick=\"convertToInteractive('df-40a2c26a-2900-4138-b2d0-105c652ed8ac')\"\n",
              "              title=\"Convert this dataframe to an interactive table.\"\n",
              "              style=\"display:none;\">\n",
              "        \n",
              "  <svg xmlns=\"http://www.w3.org/2000/svg\" height=\"24px\"viewBox=\"0 0 24 24\"\n",
              "       width=\"24px\">\n",
              "    <path d=\"M0 0h24v24H0V0z\" fill=\"none\"/>\n",
              "    <path d=\"M18.56 5.44l.94 2.06.94-2.06 2.06-.94-2.06-.94-.94-2.06-.94 2.06-2.06.94zm-11 1L8.5 8.5l.94-2.06 2.06-.94-2.06-.94L8.5 2.5l-.94 2.06-2.06.94zm10 10l.94 2.06.94-2.06 2.06-.94-2.06-.94-.94-2.06-.94 2.06-2.06.94z\"/><path d=\"M17.41 7.96l-1.37-1.37c-.4-.4-.92-.59-1.43-.59-.52 0-1.04.2-1.43.59L10.3 9.45l-7.72 7.72c-.78.78-.78 2.05 0 2.83L4 21.41c.39.39.9.59 1.41.59.51 0 1.02-.2 1.41-.59l7.78-7.78 2.81-2.81c.8-.78.8-2.07 0-2.86zM5.41 20L4 18.59l7.72-7.72 1.47 1.35L5.41 20z\"/>\n",
              "  </svg>\n",
              "      </button>\n",
              "      \n",
              "  <style>\n",
              "    .colab-df-container {\n",
              "      display:flex;\n",
              "      flex-wrap:wrap;\n",
              "      gap: 12px;\n",
              "    }\n",
              "\n",
              "    .colab-df-convert {\n",
              "      background-color: #E8F0FE;\n",
              "      border: none;\n",
              "      border-radius: 50%;\n",
              "      cursor: pointer;\n",
              "      display: none;\n",
              "      fill: #1967D2;\n",
              "      height: 32px;\n",
              "      padding: 0 0 0 0;\n",
              "      width: 32px;\n",
              "    }\n",
              "\n",
              "    .colab-df-convert:hover {\n",
              "      background-color: #E2EBFA;\n",
              "      box-shadow: 0px 1px 2px rgba(60, 64, 67, 0.3), 0px 1px 3px 1px rgba(60, 64, 67, 0.15);\n",
              "      fill: #174EA6;\n",
              "    }\n",
              "\n",
              "    [theme=dark] .colab-df-convert {\n",
              "      background-color: #3B4455;\n",
              "      fill: #D2E3FC;\n",
              "    }\n",
              "\n",
              "    [theme=dark] .colab-df-convert:hover {\n",
              "      background-color: #434B5C;\n",
              "      box-shadow: 0px 1px 3px 1px rgba(0, 0, 0, 0.15);\n",
              "      filter: drop-shadow(0px 1px 2px rgba(0, 0, 0, 0.3));\n",
              "      fill: #FFFFFF;\n",
              "    }\n",
              "  </style>\n",
              "\n",
              "      <script>\n",
              "        const buttonEl =\n",
              "          document.querySelector('#df-40a2c26a-2900-4138-b2d0-105c652ed8ac button.colab-df-convert');\n",
              "        buttonEl.style.display =\n",
              "          google.colab.kernel.accessAllowed ? 'block' : 'none';\n",
              "\n",
              "        async function convertToInteractive(key) {\n",
              "          const element = document.querySelector('#df-40a2c26a-2900-4138-b2d0-105c652ed8ac');\n",
              "          const dataTable =\n",
              "            await google.colab.kernel.invokeFunction('convertToInteractive',\n",
              "                                                     [key], {});\n",
              "          if (!dataTable) return;\n",
              "\n",
              "          const docLinkHtml = 'Like what you see? Visit the ' +\n",
              "            '<a target=\"_blank\" href=https://colab.research.google.com/notebooks/data_table.ipynb>data table notebook</a>'\n",
              "            + ' to learn more about interactive tables.';\n",
              "          element.innerHTML = '';\n",
              "          dataTable['output_type'] = 'display_data';\n",
              "          await google.colab.output.renderOutput(dataTable, element);\n",
              "          const docLink = document.createElement('div');\n",
              "          docLink.innerHTML = docLinkHtml;\n",
              "          element.appendChild(docLink);\n",
              "        }\n",
              "      </script>\n",
              "    </div>\n",
              "  </div>\n",
              "  "
            ]
          },
          "metadata": {},
          "execution_count": 13
        }
      ],
      "source": [
        "# Observation in each dataset\n",
        "x_train.describe()\n",
        "\n"
      ]
    },
    {
      "cell_type": "code",
      "execution_count": null,
      "metadata": {
        "id": "g1MPvP7jEMvR",
        "colab": {
          "base_uri": "https://localhost:8080/",
          "height": 300
        },
        "outputId": "019407de-e625-4e16-d967-99f640f0f913"
      },
      "outputs": [
        {
          "output_type": "execute_result",
          "data": {
            "text/plain": [
              "       cylinders  displacement  horsepower       weight\n",
              "count  60.000000     60.000000   60.000000    60.000000\n",
              "mean    5.550000    206.283333  109.483333  3040.283333\n",
              "std     1.750787    110.829858   42.666421   887.137581\n",
              "min     3.000000     68.000000   48.000000  1795.000000\n",
              "25%     4.000000    108.750000   84.750000  2322.500000\n",
              "50%     5.000000    159.500000   96.500000  2810.000000\n",
              "75%     8.000000    304.000000  139.000000  3732.500000\n",
              "max     8.000000    454.000000  230.000000  4997.000000"
            ],
            "text/html": [
              "\n",
              "  <div id=\"df-e5288b9a-0fd9-4925-b2b2-0134acbcbb86\">\n",
              "    <div class=\"colab-df-container\">\n",
              "      <div>\n",
              "<style scoped>\n",
              "    .dataframe tbody tr th:only-of-type {\n",
              "        vertical-align: middle;\n",
              "    }\n",
              "\n",
              "    .dataframe tbody tr th {\n",
              "        vertical-align: top;\n",
              "    }\n",
              "\n",
              "    .dataframe thead th {\n",
              "        text-align: right;\n",
              "    }\n",
              "</style>\n",
              "<table border=\"1\" class=\"dataframe\">\n",
              "  <thead>\n",
              "    <tr style=\"text-align: right;\">\n",
              "      <th></th>\n",
              "      <th>cylinders</th>\n",
              "      <th>displacement</th>\n",
              "      <th>horsepower</th>\n",
              "      <th>weight</th>\n",
              "    </tr>\n",
              "  </thead>\n",
              "  <tbody>\n",
              "    <tr>\n",
              "      <th>count</th>\n",
              "      <td>60.000000</td>\n",
              "      <td>60.000000</td>\n",
              "      <td>60.000000</td>\n",
              "      <td>60.000000</td>\n",
              "    </tr>\n",
              "    <tr>\n",
              "      <th>mean</th>\n",
              "      <td>5.550000</td>\n",
              "      <td>206.283333</td>\n",
              "      <td>109.483333</td>\n",
              "      <td>3040.283333</td>\n",
              "    </tr>\n",
              "    <tr>\n",
              "      <th>std</th>\n",
              "      <td>1.750787</td>\n",
              "      <td>110.829858</td>\n",
              "      <td>42.666421</td>\n",
              "      <td>887.137581</td>\n",
              "    </tr>\n",
              "    <tr>\n",
              "      <th>min</th>\n",
              "      <td>3.000000</td>\n",
              "      <td>68.000000</td>\n",
              "      <td>48.000000</td>\n",
              "      <td>1795.000000</td>\n",
              "    </tr>\n",
              "    <tr>\n",
              "      <th>25%</th>\n",
              "      <td>4.000000</td>\n",
              "      <td>108.750000</td>\n",
              "      <td>84.750000</td>\n",
              "      <td>2322.500000</td>\n",
              "    </tr>\n",
              "    <tr>\n",
              "      <th>50%</th>\n",
              "      <td>5.000000</td>\n",
              "      <td>159.500000</td>\n",
              "      <td>96.500000</td>\n",
              "      <td>2810.000000</td>\n",
              "    </tr>\n",
              "    <tr>\n",
              "      <th>75%</th>\n",
              "      <td>8.000000</td>\n",
              "      <td>304.000000</td>\n",
              "      <td>139.000000</td>\n",
              "      <td>3732.500000</td>\n",
              "    </tr>\n",
              "    <tr>\n",
              "      <th>max</th>\n",
              "      <td>8.000000</td>\n",
              "      <td>454.000000</td>\n",
              "      <td>230.000000</td>\n",
              "      <td>4997.000000</td>\n",
              "    </tr>\n",
              "  </tbody>\n",
              "</table>\n",
              "</div>\n",
              "      <button class=\"colab-df-convert\" onclick=\"convertToInteractive('df-e5288b9a-0fd9-4925-b2b2-0134acbcbb86')\"\n",
              "              title=\"Convert this dataframe to an interactive table.\"\n",
              "              style=\"display:none;\">\n",
              "        \n",
              "  <svg xmlns=\"http://www.w3.org/2000/svg\" height=\"24px\"viewBox=\"0 0 24 24\"\n",
              "       width=\"24px\">\n",
              "    <path d=\"M0 0h24v24H0V0z\" fill=\"none\"/>\n",
              "    <path d=\"M18.56 5.44l.94 2.06.94-2.06 2.06-.94-2.06-.94-.94-2.06-.94 2.06-2.06.94zm-11 1L8.5 8.5l.94-2.06 2.06-.94-2.06-.94L8.5 2.5l-.94 2.06-2.06.94zm10 10l.94 2.06.94-2.06 2.06-.94-2.06-.94-.94-2.06-.94 2.06-2.06.94z\"/><path d=\"M17.41 7.96l-1.37-1.37c-.4-.4-.92-.59-1.43-.59-.52 0-1.04.2-1.43.59L10.3 9.45l-7.72 7.72c-.78.78-.78 2.05 0 2.83L4 21.41c.39.39.9.59 1.41.59.51 0 1.02-.2 1.41-.59l7.78-7.78 2.81-2.81c.8-.78.8-2.07 0-2.86zM5.41 20L4 18.59l7.72-7.72 1.47 1.35L5.41 20z\"/>\n",
              "  </svg>\n",
              "      </button>\n",
              "      \n",
              "  <style>\n",
              "    .colab-df-container {\n",
              "      display:flex;\n",
              "      flex-wrap:wrap;\n",
              "      gap: 12px;\n",
              "    }\n",
              "\n",
              "    .colab-df-convert {\n",
              "      background-color: #E8F0FE;\n",
              "      border: none;\n",
              "      border-radius: 50%;\n",
              "      cursor: pointer;\n",
              "      display: none;\n",
              "      fill: #1967D2;\n",
              "      height: 32px;\n",
              "      padding: 0 0 0 0;\n",
              "      width: 32px;\n",
              "    }\n",
              "\n",
              "    .colab-df-convert:hover {\n",
              "      background-color: #E2EBFA;\n",
              "      box-shadow: 0px 1px 2px rgba(60, 64, 67, 0.3), 0px 1px 3px 1px rgba(60, 64, 67, 0.15);\n",
              "      fill: #174EA6;\n",
              "    }\n",
              "\n",
              "    [theme=dark] .colab-df-convert {\n",
              "      background-color: #3B4455;\n",
              "      fill: #D2E3FC;\n",
              "    }\n",
              "\n",
              "    [theme=dark] .colab-df-convert:hover {\n",
              "      background-color: #434B5C;\n",
              "      box-shadow: 0px 1px 3px 1px rgba(0, 0, 0, 0.15);\n",
              "      filter: drop-shadow(0px 1px 2px rgba(0, 0, 0, 0.3));\n",
              "      fill: #FFFFFF;\n",
              "    }\n",
              "  </style>\n",
              "\n",
              "      <script>\n",
              "        const buttonEl =\n",
              "          document.querySelector('#df-e5288b9a-0fd9-4925-b2b2-0134acbcbb86 button.colab-df-convert');\n",
              "        buttonEl.style.display =\n",
              "          google.colab.kernel.accessAllowed ? 'block' : 'none';\n",
              "\n",
              "        async function convertToInteractive(key) {\n",
              "          const element = document.querySelector('#df-e5288b9a-0fd9-4925-b2b2-0134acbcbb86');\n",
              "          const dataTable =\n",
              "            await google.colab.kernel.invokeFunction('convertToInteractive',\n",
              "                                                     [key], {});\n",
              "          if (!dataTable) return;\n",
              "\n",
              "          const docLinkHtml = 'Like what you see? Visit the ' +\n",
              "            '<a target=\"_blank\" href=https://colab.research.google.com/notebooks/data_table.ipynb>data table notebook</a>'\n",
              "            + ' to learn more about interactive tables.';\n",
              "          element.innerHTML = '';\n",
              "          dataTable['output_type'] = 'display_data';\n",
              "          await google.colab.output.renderOutput(dataTable, element);\n",
              "          const docLink = document.createElement('div');\n",
              "          docLink.innerHTML = docLinkHtml;\n",
              "          element.appendChild(docLink);\n",
              "        }\n",
              "      </script>\n",
              "    </div>\n",
              "  </div>\n",
              "  "
            ]
          },
          "metadata": {},
          "execution_count": 14
        }
      ],
      "source": [
        "x_test.describe()\n"
      ]
    },
    {
      "cell_type": "code",
      "execution_count": null,
      "metadata": {
        "id": "3I4SdmlfE65x",
        "colab": {
          "base_uri": "https://localhost:8080/",
          "height": 300
        },
        "outputId": "e7e4007a-69ad-4276-b6c0-102d56fd8d89"
      },
      "outputs": [
        {
          "output_type": "execute_result",
          "data": {
            "text/plain": [
              "            mpg01\n",
              "count  240.000000\n",
              "mean     0.516667\n",
              "std      0.500766\n",
              "min      0.000000\n",
              "25%      0.000000\n",
              "50%      1.000000\n",
              "75%      1.000000\n",
              "max      1.000000"
            ],
            "text/html": [
              "\n",
              "  <div id=\"df-57a62838-4f42-4b98-bd7d-7259b4962f4e\">\n",
              "    <div class=\"colab-df-container\">\n",
              "      <div>\n",
              "<style scoped>\n",
              "    .dataframe tbody tr th:only-of-type {\n",
              "        vertical-align: middle;\n",
              "    }\n",
              "\n",
              "    .dataframe tbody tr th {\n",
              "        vertical-align: top;\n",
              "    }\n",
              "\n",
              "    .dataframe thead th {\n",
              "        text-align: right;\n",
              "    }\n",
              "</style>\n",
              "<table border=\"1\" class=\"dataframe\">\n",
              "  <thead>\n",
              "    <tr style=\"text-align: right;\">\n",
              "      <th></th>\n",
              "      <th>mpg01</th>\n",
              "    </tr>\n",
              "  </thead>\n",
              "  <tbody>\n",
              "    <tr>\n",
              "      <th>count</th>\n",
              "      <td>240.000000</td>\n",
              "    </tr>\n",
              "    <tr>\n",
              "      <th>mean</th>\n",
              "      <td>0.516667</td>\n",
              "    </tr>\n",
              "    <tr>\n",
              "      <th>std</th>\n",
              "      <td>0.500766</td>\n",
              "    </tr>\n",
              "    <tr>\n",
              "      <th>min</th>\n",
              "      <td>0.000000</td>\n",
              "    </tr>\n",
              "    <tr>\n",
              "      <th>25%</th>\n",
              "      <td>0.000000</td>\n",
              "    </tr>\n",
              "    <tr>\n",
              "      <th>50%</th>\n",
              "      <td>1.000000</td>\n",
              "    </tr>\n",
              "    <tr>\n",
              "      <th>75%</th>\n",
              "      <td>1.000000</td>\n",
              "    </tr>\n",
              "    <tr>\n",
              "      <th>max</th>\n",
              "      <td>1.000000</td>\n",
              "    </tr>\n",
              "  </tbody>\n",
              "</table>\n",
              "</div>\n",
              "      <button class=\"colab-df-convert\" onclick=\"convertToInteractive('df-57a62838-4f42-4b98-bd7d-7259b4962f4e')\"\n",
              "              title=\"Convert this dataframe to an interactive table.\"\n",
              "              style=\"display:none;\">\n",
              "        \n",
              "  <svg xmlns=\"http://www.w3.org/2000/svg\" height=\"24px\"viewBox=\"0 0 24 24\"\n",
              "       width=\"24px\">\n",
              "    <path d=\"M0 0h24v24H0V0z\" fill=\"none\"/>\n",
              "    <path d=\"M18.56 5.44l.94 2.06.94-2.06 2.06-.94-2.06-.94-.94-2.06-.94 2.06-2.06.94zm-11 1L8.5 8.5l.94-2.06 2.06-.94-2.06-.94L8.5 2.5l-.94 2.06-2.06.94zm10 10l.94 2.06.94-2.06 2.06-.94-2.06-.94-.94-2.06-.94 2.06-2.06.94z\"/><path d=\"M17.41 7.96l-1.37-1.37c-.4-.4-.92-.59-1.43-.59-.52 0-1.04.2-1.43.59L10.3 9.45l-7.72 7.72c-.78.78-.78 2.05 0 2.83L4 21.41c.39.39.9.59 1.41.59.51 0 1.02-.2 1.41-.59l7.78-7.78 2.81-2.81c.8-.78.8-2.07 0-2.86zM5.41 20L4 18.59l7.72-7.72 1.47 1.35L5.41 20z\"/>\n",
              "  </svg>\n",
              "      </button>\n",
              "      \n",
              "  <style>\n",
              "    .colab-df-container {\n",
              "      display:flex;\n",
              "      flex-wrap:wrap;\n",
              "      gap: 12px;\n",
              "    }\n",
              "\n",
              "    .colab-df-convert {\n",
              "      background-color: #E8F0FE;\n",
              "      border: none;\n",
              "      border-radius: 50%;\n",
              "      cursor: pointer;\n",
              "      display: none;\n",
              "      fill: #1967D2;\n",
              "      height: 32px;\n",
              "      padding: 0 0 0 0;\n",
              "      width: 32px;\n",
              "    }\n",
              "\n",
              "    .colab-df-convert:hover {\n",
              "      background-color: #E2EBFA;\n",
              "      box-shadow: 0px 1px 2px rgba(60, 64, 67, 0.3), 0px 1px 3px 1px rgba(60, 64, 67, 0.15);\n",
              "      fill: #174EA6;\n",
              "    }\n",
              "\n",
              "    [theme=dark] .colab-df-convert {\n",
              "      background-color: #3B4455;\n",
              "      fill: #D2E3FC;\n",
              "    }\n",
              "\n",
              "    [theme=dark] .colab-df-convert:hover {\n",
              "      background-color: #434B5C;\n",
              "      box-shadow: 0px 1px 3px 1px rgba(0, 0, 0, 0.15);\n",
              "      filter: drop-shadow(0px 1px 2px rgba(0, 0, 0, 0.3));\n",
              "      fill: #FFFFFF;\n",
              "    }\n",
              "  </style>\n",
              "\n",
              "      <script>\n",
              "        const buttonEl =\n",
              "          document.querySelector('#df-57a62838-4f42-4b98-bd7d-7259b4962f4e button.colab-df-convert');\n",
              "        buttonEl.style.display =\n",
              "          google.colab.kernel.accessAllowed ? 'block' : 'none';\n",
              "\n",
              "        async function convertToInteractive(key) {\n",
              "          const element = document.querySelector('#df-57a62838-4f42-4b98-bd7d-7259b4962f4e');\n",
              "          const dataTable =\n",
              "            await google.colab.kernel.invokeFunction('convertToInteractive',\n",
              "                                                     [key], {});\n",
              "          if (!dataTable) return;\n",
              "\n",
              "          const docLinkHtml = 'Like what you see? Visit the ' +\n",
              "            '<a target=\"_blank\" href=https://colab.research.google.com/notebooks/data_table.ipynb>data table notebook</a>'\n",
              "            + ' to learn more about interactive tables.';\n",
              "          element.innerHTML = '';\n",
              "          dataTable['output_type'] = 'display_data';\n",
              "          await google.colab.output.renderOutput(dataTable, element);\n",
              "          const docLink = document.createElement('div');\n",
              "          docLink.innerHTML = docLinkHtml;\n",
              "          element.appendChild(docLink);\n",
              "        }\n",
              "      </script>\n",
              "    </div>\n",
              "  </div>\n",
              "  "
            ]
          },
          "metadata": {},
          "execution_count": 15
        }
      ],
      "source": [
        "y_train.describe()\n"
      ]
    },
    {
      "cell_type": "code",
      "execution_count": null,
      "metadata": {
        "id": "KqTL7FA3E-Nq",
        "colab": {
          "base_uri": "https://localhost:8080/",
          "height": 300
        },
        "outputId": "02d3f0a2-84ca-478b-e943-2cc164721b14"
      },
      "outputs": [
        {
          "output_type": "execute_result",
          "data": {
            "text/plain": [
              "           mpg01\n",
              "count  60.000000\n",
              "mean    0.433333\n",
              "std     0.499717\n",
              "min     0.000000\n",
              "25%     0.000000\n",
              "50%     0.000000\n",
              "75%     1.000000\n",
              "max     1.000000"
            ],
            "text/html": [
              "\n",
              "  <div id=\"df-7efba52a-d193-49cb-8ef8-29df7e171f96\">\n",
              "    <div class=\"colab-df-container\">\n",
              "      <div>\n",
              "<style scoped>\n",
              "    .dataframe tbody tr th:only-of-type {\n",
              "        vertical-align: middle;\n",
              "    }\n",
              "\n",
              "    .dataframe tbody tr th {\n",
              "        vertical-align: top;\n",
              "    }\n",
              "\n",
              "    .dataframe thead th {\n",
              "        text-align: right;\n",
              "    }\n",
              "</style>\n",
              "<table border=\"1\" class=\"dataframe\">\n",
              "  <thead>\n",
              "    <tr style=\"text-align: right;\">\n",
              "      <th></th>\n",
              "      <th>mpg01</th>\n",
              "    </tr>\n",
              "  </thead>\n",
              "  <tbody>\n",
              "    <tr>\n",
              "      <th>count</th>\n",
              "      <td>60.000000</td>\n",
              "    </tr>\n",
              "    <tr>\n",
              "      <th>mean</th>\n",
              "      <td>0.433333</td>\n",
              "    </tr>\n",
              "    <tr>\n",
              "      <th>std</th>\n",
              "      <td>0.499717</td>\n",
              "    </tr>\n",
              "    <tr>\n",
              "      <th>min</th>\n",
              "      <td>0.000000</td>\n",
              "    </tr>\n",
              "    <tr>\n",
              "      <th>25%</th>\n",
              "      <td>0.000000</td>\n",
              "    </tr>\n",
              "    <tr>\n",
              "      <th>50%</th>\n",
              "      <td>0.000000</td>\n",
              "    </tr>\n",
              "    <tr>\n",
              "      <th>75%</th>\n",
              "      <td>1.000000</td>\n",
              "    </tr>\n",
              "    <tr>\n",
              "      <th>max</th>\n",
              "      <td>1.000000</td>\n",
              "    </tr>\n",
              "  </tbody>\n",
              "</table>\n",
              "</div>\n",
              "      <button class=\"colab-df-convert\" onclick=\"convertToInteractive('df-7efba52a-d193-49cb-8ef8-29df7e171f96')\"\n",
              "              title=\"Convert this dataframe to an interactive table.\"\n",
              "              style=\"display:none;\">\n",
              "        \n",
              "  <svg xmlns=\"http://www.w3.org/2000/svg\" height=\"24px\"viewBox=\"0 0 24 24\"\n",
              "       width=\"24px\">\n",
              "    <path d=\"M0 0h24v24H0V0z\" fill=\"none\"/>\n",
              "    <path d=\"M18.56 5.44l.94 2.06.94-2.06 2.06-.94-2.06-.94-.94-2.06-.94 2.06-2.06.94zm-11 1L8.5 8.5l.94-2.06 2.06-.94-2.06-.94L8.5 2.5l-.94 2.06-2.06.94zm10 10l.94 2.06.94-2.06 2.06-.94-2.06-.94-.94-2.06-.94 2.06-2.06.94z\"/><path d=\"M17.41 7.96l-1.37-1.37c-.4-.4-.92-.59-1.43-.59-.52 0-1.04.2-1.43.59L10.3 9.45l-7.72 7.72c-.78.78-.78 2.05 0 2.83L4 21.41c.39.39.9.59 1.41.59.51 0 1.02-.2 1.41-.59l7.78-7.78 2.81-2.81c.8-.78.8-2.07 0-2.86zM5.41 20L4 18.59l7.72-7.72 1.47 1.35L5.41 20z\"/>\n",
              "  </svg>\n",
              "      </button>\n",
              "      \n",
              "  <style>\n",
              "    .colab-df-container {\n",
              "      display:flex;\n",
              "      flex-wrap:wrap;\n",
              "      gap: 12px;\n",
              "    }\n",
              "\n",
              "    .colab-df-convert {\n",
              "      background-color: #E8F0FE;\n",
              "      border: none;\n",
              "      border-radius: 50%;\n",
              "      cursor: pointer;\n",
              "      display: none;\n",
              "      fill: #1967D2;\n",
              "      height: 32px;\n",
              "      padding: 0 0 0 0;\n",
              "      width: 32px;\n",
              "    }\n",
              "\n",
              "    .colab-df-convert:hover {\n",
              "      background-color: #E2EBFA;\n",
              "      box-shadow: 0px 1px 2px rgba(60, 64, 67, 0.3), 0px 1px 3px 1px rgba(60, 64, 67, 0.15);\n",
              "      fill: #174EA6;\n",
              "    }\n",
              "\n",
              "    [theme=dark] .colab-df-convert {\n",
              "      background-color: #3B4455;\n",
              "      fill: #D2E3FC;\n",
              "    }\n",
              "\n",
              "    [theme=dark] .colab-df-convert:hover {\n",
              "      background-color: #434B5C;\n",
              "      box-shadow: 0px 1px 3px 1px rgba(0, 0, 0, 0.15);\n",
              "      filter: drop-shadow(0px 1px 2px rgba(0, 0, 0, 0.3));\n",
              "      fill: #FFFFFF;\n",
              "    }\n",
              "  </style>\n",
              "\n",
              "      <script>\n",
              "        const buttonEl =\n",
              "          document.querySelector('#df-7efba52a-d193-49cb-8ef8-29df7e171f96 button.colab-df-convert');\n",
              "        buttonEl.style.display =\n",
              "          google.colab.kernel.accessAllowed ? 'block' : 'none';\n",
              "\n",
              "        async function convertToInteractive(key) {\n",
              "          const element = document.querySelector('#df-7efba52a-d193-49cb-8ef8-29df7e171f96');\n",
              "          const dataTable =\n",
              "            await google.colab.kernel.invokeFunction('convertToInteractive',\n",
              "                                                     [key], {});\n",
              "          if (!dataTable) return;\n",
              "\n",
              "          const docLinkHtml = 'Like what you see? Visit the ' +\n",
              "            '<a target=\"_blank\" href=https://colab.research.google.com/notebooks/data_table.ipynb>data table notebook</a>'\n",
              "            + ' to learn more about interactive tables.';\n",
              "          element.innerHTML = '';\n",
              "          dataTable['output_type'] = 'display_data';\n",
              "          await google.colab.output.renderOutput(dataTable, element);\n",
              "          const docLink = document.createElement('div');\n",
              "          docLink.innerHTML = docLinkHtml;\n",
              "          element.appendChild(docLink);\n",
              "        }\n",
              "      </script>\n",
              "    </div>\n",
              "  </div>\n",
              "  "
            ]
          },
          "metadata": {},
          "execution_count": 16
        }
      ],
      "source": [
        "y_test.describe()"
      ]
    },
    {
      "cell_type": "code",
      "execution_count": null,
      "metadata": {
        "id": "9CkGBK-AE_za"
      },
      "outputs": [],
      "source": [
        "import statsmodels.api as sm\n",
        "import statsmodels.formula.api as smf"
      ]
    },
    {
      "cell_type": "code",
      "execution_count": null,
      "metadata": {
        "id": "0Qzv1mNzFFEO"
      },
      "outputs": [],
      "source": [
        "#Merging the 2 sets\n",
        "auto_train = pd.concat([x_train, y_train], axis=1)"
      ]
    },
    {
      "cell_type": "code",
      "execution_count": null,
      "metadata": {
        "id": "SeivREi5FIzd",
        "colab": {
          "base_uri": "https://localhost:8080/",
          "height": 300
        },
        "outputId": "d8404458-367a-418c-b378-bb49a51b9070"
      },
      "outputs": [
        {
          "output_type": "execute_result",
          "data": {
            "text/plain": [
              "        cylinders  displacement  horsepower       weight       mpg01\n",
              "count  240.000000    240.000000  240.000000   240.000000  240.000000\n",
              "mean     5.404167    188.852083  102.691667  2922.237500    0.516667\n",
              "std      1.711145    104.014100   37.949933   840.326569    0.500766\n",
              "min      3.000000     70.000000   46.000000  1613.000000    0.000000\n",
              "25%      4.000000     98.000000   75.000000  2199.000000    0.000000\n",
              "50%      4.000000    140.000000   90.000000  2718.000000    1.000000\n",
              "75%      8.000000    260.500000  122.750000  3440.500000    1.000000\n",
              "max      8.000000    455.000000  225.000000  4955.000000    1.000000"
            ],
            "text/html": [
              "\n",
              "  <div id=\"df-0544bd9b-ff64-48d3-bf77-b1b339125d1c\">\n",
              "    <div class=\"colab-df-container\">\n",
              "      <div>\n",
              "<style scoped>\n",
              "    .dataframe tbody tr th:only-of-type {\n",
              "        vertical-align: middle;\n",
              "    }\n",
              "\n",
              "    .dataframe tbody tr th {\n",
              "        vertical-align: top;\n",
              "    }\n",
              "\n",
              "    .dataframe thead th {\n",
              "        text-align: right;\n",
              "    }\n",
              "</style>\n",
              "<table border=\"1\" class=\"dataframe\">\n",
              "  <thead>\n",
              "    <tr style=\"text-align: right;\">\n",
              "      <th></th>\n",
              "      <th>cylinders</th>\n",
              "      <th>displacement</th>\n",
              "      <th>horsepower</th>\n",
              "      <th>weight</th>\n",
              "      <th>mpg01</th>\n",
              "    </tr>\n",
              "  </thead>\n",
              "  <tbody>\n",
              "    <tr>\n",
              "      <th>count</th>\n",
              "      <td>240.000000</td>\n",
              "      <td>240.000000</td>\n",
              "      <td>240.000000</td>\n",
              "      <td>240.000000</td>\n",
              "      <td>240.000000</td>\n",
              "    </tr>\n",
              "    <tr>\n",
              "      <th>mean</th>\n",
              "      <td>5.404167</td>\n",
              "      <td>188.852083</td>\n",
              "      <td>102.691667</td>\n",
              "      <td>2922.237500</td>\n",
              "      <td>0.516667</td>\n",
              "    </tr>\n",
              "    <tr>\n",
              "      <th>std</th>\n",
              "      <td>1.711145</td>\n",
              "      <td>104.014100</td>\n",
              "      <td>37.949933</td>\n",
              "      <td>840.326569</td>\n",
              "      <td>0.500766</td>\n",
              "    </tr>\n",
              "    <tr>\n",
              "      <th>min</th>\n",
              "      <td>3.000000</td>\n",
              "      <td>70.000000</td>\n",
              "      <td>46.000000</td>\n",
              "      <td>1613.000000</td>\n",
              "      <td>0.000000</td>\n",
              "    </tr>\n",
              "    <tr>\n",
              "      <th>25%</th>\n",
              "      <td>4.000000</td>\n",
              "      <td>98.000000</td>\n",
              "      <td>75.000000</td>\n",
              "      <td>2199.000000</td>\n",
              "      <td>0.000000</td>\n",
              "    </tr>\n",
              "    <tr>\n",
              "      <th>50%</th>\n",
              "      <td>4.000000</td>\n",
              "      <td>140.000000</td>\n",
              "      <td>90.000000</td>\n",
              "      <td>2718.000000</td>\n",
              "      <td>1.000000</td>\n",
              "    </tr>\n",
              "    <tr>\n",
              "      <th>75%</th>\n",
              "      <td>8.000000</td>\n",
              "      <td>260.500000</td>\n",
              "      <td>122.750000</td>\n",
              "      <td>3440.500000</td>\n",
              "      <td>1.000000</td>\n",
              "    </tr>\n",
              "    <tr>\n",
              "      <th>max</th>\n",
              "      <td>8.000000</td>\n",
              "      <td>455.000000</td>\n",
              "      <td>225.000000</td>\n",
              "      <td>4955.000000</td>\n",
              "      <td>1.000000</td>\n",
              "    </tr>\n",
              "  </tbody>\n",
              "</table>\n",
              "</div>\n",
              "      <button class=\"colab-df-convert\" onclick=\"convertToInteractive('df-0544bd9b-ff64-48d3-bf77-b1b339125d1c')\"\n",
              "              title=\"Convert this dataframe to an interactive table.\"\n",
              "              style=\"display:none;\">\n",
              "        \n",
              "  <svg xmlns=\"http://www.w3.org/2000/svg\" height=\"24px\"viewBox=\"0 0 24 24\"\n",
              "       width=\"24px\">\n",
              "    <path d=\"M0 0h24v24H0V0z\" fill=\"none\"/>\n",
              "    <path d=\"M18.56 5.44l.94 2.06.94-2.06 2.06-.94-2.06-.94-.94-2.06-.94 2.06-2.06.94zm-11 1L8.5 8.5l.94-2.06 2.06-.94-2.06-.94L8.5 2.5l-.94 2.06-2.06.94zm10 10l.94 2.06.94-2.06 2.06-.94-2.06-.94-.94-2.06-.94 2.06-2.06.94z\"/><path d=\"M17.41 7.96l-1.37-1.37c-.4-.4-.92-.59-1.43-.59-.52 0-1.04.2-1.43.59L10.3 9.45l-7.72 7.72c-.78.78-.78 2.05 0 2.83L4 21.41c.39.39.9.59 1.41.59.51 0 1.02-.2 1.41-.59l7.78-7.78 2.81-2.81c.8-.78.8-2.07 0-2.86zM5.41 20L4 18.59l7.72-7.72 1.47 1.35L5.41 20z\"/>\n",
              "  </svg>\n",
              "      </button>\n",
              "      \n",
              "  <style>\n",
              "    .colab-df-container {\n",
              "      display:flex;\n",
              "      flex-wrap:wrap;\n",
              "      gap: 12px;\n",
              "    }\n",
              "\n",
              "    .colab-df-convert {\n",
              "      background-color: #E8F0FE;\n",
              "      border: none;\n",
              "      border-radius: 50%;\n",
              "      cursor: pointer;\n",
              "      display: none;\n",
              "      fill: #1967D2;\n",
              "      height: 32px;\n",
              "      padding: 0 0 0 0;\n",
              "      width: 32px;\n",
              "    }\n",
              "\n",
              "    .colab-df-convert:hover {\n",
              "      background-color: #E2EBFA;\n",
              "      box-shadow: 0px 1px 2px rgba(60, 64, 67, 0.3), 0px 1px 3px 1px rgba(60, 64, 67, 0.15);\n",
              "      fill: #174EA6;\n",
              "    }\n",
              "\n",
              "    [theme=dark] .colab-df-convert {\n",
              "      background-color: #3B4455;\n",
              "      fill: #D2E3FC;\n",
              "    }\n",
              "\n",
              "    [theme=dark] .colab-df-convert:hover {\n",
              "      background-color: #434B5C;\n",
              "      box-shadow: 0px 1px 3px 1px rgba(0, 0, 0, 0.15);\n",
              "      filter: drop-shadow(0px 1px 2px rgba(0, 0, 0, 0.3));\n",
              "      fill: #FFFFFF;\n",
              "    }\n",
              "  </style>\n",
              "\n",
              "      <script>\n",
              "        const buttonEl =\n",
              "          document.querySelector('#df-0544bd9b-ff64-48d3-bf77-b1b339125d1c button.colab-df-convert');\n",
              "        buttonEl.style.display =\n",
              "          google.colab.kernel.accessAllowed ? 'block' : 'none';\n",
              "\n",
              "        async function convertToInteractive(key) {\n",
              "          const element = document.querySelector('#df-0544bd9b-ff64-48d3-bf77-b1b339125d1c');\n",
              "          const dataTable =\n",
              "            await google.colab.kernel.invokeFunction('convertToInteractive',\n",
              "                                                     [key], {});\n",
              "          if (!dataTable) return;\n",
              "\n",
              "          const docLinkHtml = 'Like what you see? Visit the ' +\n",
              "            '<a target=\"_blank\" href=https://colab.research.google.com/notebooks/data_table.ipynb>data table notebook</a>'\n",
              "            + ' to learn more about interactive tables.';\n",
              "          element.innerHTML = '';\n",
              "          dataTable['output_type'] = 'display_data';\n",
              "          await google.colab.output.renderOutput(dataTable, element);\n",
              "          const docLink = document.createElement('div');\n",
              "          docLink.innerHTML = docLinkHtml;\n",
              "          element.appendChild(docLink);\n",
              "        }\n",
              "      </script>\n",
              "    </div>\n",
              "  </div>\n",
              "  "
            ]
          },
          "metadata": {},
          "execution_count": 19
        }
      ],
      "source": [
        "auto_train.describe()\n"
      ]
    },
    {
      "cell_type": "code",
      "execution_count": null,
      "metadata": {
        "id": "ymymYQF3FM5_",
        "colab": {
          "base_uri": "https://localhost:8080/"
        },
        "outputId": "ad0a30e5-6a94-4ff6-dfbd-eb51684181b9"
      },
      "outputs": [
        {
          "output_type": "stream",
          "name": "stdout",
          "text": [
            "                 Generalized Linear Model Regression Results                  \n",
            "==============================================================================\n",
            "Dep. Variable:                  mpg01   No. Observations:                  240\n",
            "Model:                            GLM   Df Residuals:                      235\n",
            "Model Family:                Binomial   Df Model:                            4\n",
            "Link Function:                  logit   Scale:                          1.0000\n",
            "Method:                          IRLS   Log-Likelihood:                -61.605\n",
            "Date:                Sat, 15 Oct 2022   Deviance:                       123.21\n",
            "Time:                        23:55:00   Pearson chi2:                     275.\n",
            "No. Iterations:                     7                                         \n",
            "Covariance Type:            nonrobust                                         \n",
            "================================================================================\n",
            "                   coef    std err          z      P>|z|      [0.025      0.975]\n",
            "--------------------------------------------------------------------------------\n",
            "Intercept       11.2318      2.179      5.155      0.000       6.961      15.502\n",
            "cylinders        0.3108      0.450      0.690      0.490      -0.572       1.193\n",
            "weight          -0.0020      0.001     -2.092      0.036      -0.004      -0.000\n",
            "displacement    -0.0186      0.011     -1.675      0.094      -0.040       0.003\n",
            "horsepower      -0.0428      0.017     -2.487      0.013      -0.076      -0.009\n",
            "================================================================================\n"
          ]
        }
      ],
      "source": [
        "#Perform logistic regression to predict mpg01\n",
        "formula = 'mpg01 ~ cylinders + weight + displacement + horsepower'\n",
        "model = smf.glm(formula = formula , data=auto_train , family = sm.families.Binomial())\n",
        "logreg = model.fit()\n",
        "print(logreg.summary())\n"
      ]
    },
    {
      "cell_type": "markdown",
      "source": [
        "Interpretation: the variables \"weight\" and \"horsepower\" are statistically significant because there p-value is less than 0.05.\n"
      ],
      "metadata": {
        "id": "liss-ro7Suzy"
      }
    },
    {
      "cell_type": "code",
      "source": [
        "#Vector of estimated probalities\n",
        "yhat_probs = logreg.fittedvalues\n",
        "print(yhat_probs)"
      ],
      "metadata": {
        "id": "PbLbY2GMY6tM",
        "colab": {
          "base_uri": "https://localhost:8080/"
        },
        "outputId": "2900662c-5f66-4f69-c33a-2b3e8a0c7511"
      },
      "execution_count": null,
      "outputs": [
        {
          "output_type": "stream",
          "name": "stdout",
          "text": [
            "0      0.708781\n",
            "1      0.060105\n",
            "2      0.896964\n",
            "3      0.981834\n",
            "4      0.586649\n",
            "         ...   \n",
            "235    0.985506\n",
            "236    0.072270\n",
            "237    0.183025\n",
            "238    0.000046\n",
            "239    0.073163\n",
            "Length: 240, dtype: float64\n"
          ]
        }
      ]
    },
    {
      "cell_type": "code",
      "source": [
        "yhat = [1 if x > 0.5 else 0 for x in yhat_probs]\n"
      ],
      "metadata": {
        "id": "WgN7BeenZA5h"
      },
      "execution_count": null,
      "outputs": []
    },
    {
      "cell_type": "code",
      "source": [
        "#Confusion matrix and accuracy score\n",
        "from sklearn.metrics import confusion_matrix , classification_report, accuracy_score\n",
        "print(confusion_matrix (y_train, yhat ))\n",
        "print(accuracy_score(y_train, yhat ))\n",
        "print(classification_report(y_train, yhat, digits=3))"
      ],
      "metadata": {
        "id": "LDB00Z18hQUR",
        "colab": {
          "base_uri": "https://localhost:8080/"
        },
        "outputId": "dfb78712-212f-4e6a-c687-94feedc2e935"
      },
      "execution_count": null,
      "outputs": [
        {
          "output_type": "stream",
          "name": "stdout",
          "text": [
            "[[102  14]\n",
            " [  9 115]]\n",
            "0.9041666666666667\n",
            "              precision    recall  f1-score   support\n",
            "\n",
            "           0      0.919     0.879     0.899       116\n",
            "           1      0.891     0.927     0.909       124\n",
            "\n",
            "    accuracy                          0.904       240\n",
            "   macro avg      0.905     0.903     0.904       240\n",
            "weighted avg      0.905     0.904     0.904       240\n",
            "\n"
          ]
        }
      ]
    },
    {
      "cell_type": "markdown",
      "source": [],
      "metadata": {
        "id": "X8rPw2N6hP-T"
      }
    },
    {
      "cell_type": "code",
      "source": [
        "#Calcul of the train error rate \n",
        "from sklearn.metrics import mean_squared_error\n",
        "training_error = mean_squared_error(y_train,yhat)\n",
        "print(training_error)"
      ],
      "metadata": {
        "id": "9fKAZgCO2flt",
        "colab": {
          "base_uri": "https://localhost:8080/"
        },
        "outputId": "377b97e4-6577-4668-92bf-a3f8ef91bb70"
      },
      "execution_count": null,
      "outputs": [
        {
          "output_type": "stream",
          "name": "stdout",
          "text": [
            "0.09583333333333334\n"
          ]
        }
      ]
    },
    {
      "cell_type": "code",
      "source": [
        "#Confusion matrix and accuracy score for x_test\n",
        "from sklearn.metrics import confusion_matrix, classification_report, accuracy_score\n",
        "pred_prob = logreg.predict(x_test)\n",
        "pred_xhat = [1 if x > 0.5 else 0 for x in pred_prob]\n",
        "print(confusion_matrix (y_test, pred_xhat ))\n",
        "print(accuracy_score(y_test, pred_xhat ))\n",
        "print(classification_report(y_test, pred_xhat, digits=3))\n"
      ],
      "metadata": {
        "colab": {
          "base_uri": "https://localhost:8080/"
        },
        "id": "8VFfyllOh0v4",
        "outputId": "b68ab094-20b4-4f1e-8612-4c75a3d0e70e"
      },
      "execution_count": null,
      "outputs": [
        {
          "output_type": "stream",
          "name": "stdout",
          "text": [
            "[[27  7]\n",
            " [ 2 24]]\n",
            "0.85\n",
            "              precision    recall  f1-score   support\n",
            "\n",
            "           0      0.931     0.794     0.857        34\n",
            "           1      0.774     0.923     0.842        26\n",
            "\n",
            "    accuracy                          0.850        60\n",
            "   macro avg      0.853     0.859     0.850        60\n",
            "weighted avg      0.863     0.850     0.851        60\n",
            "\n"
          ]
        }
      ]
    },
    {
      "cell_type": "code",
      "source": [
        "testing_error = mean_squared_error(y_test,pred_xhat)\n",
        "print(testing_error)"
      ],
      "metadata": {
        "colab": {
          "base_uri": "https://localhost:8080/"
        },
        "id": "H_cXUMs2wXTV",
        "outputId": "45cba25e-832a-4bed-ae84-b45906f948ac"
      },
      "execution_count": null,
      "outputs": [
        {
          "output_type": "stream",
          "name": "stdout",
          "text": [
            "0.15\n"
          ]
        }
      ]
    },
    {
      "cell_type": "markdown",
      "source": [
        "**2.3 K-Nearest Neighbors**"
      ],
      "metadata": {
        "id": "BzbvkZH-n2U2"
      }
    },
    {
      "cell_type": "markdown",
      "source": [
        "We have to calculate the training error to choose the best value of K as we perform the KNN classifier for each value of K. The F1 score for each value of K is printed alongside."
      ],
      "metadata": {
        "id": "j6768NN8bbei"
      }
    },
    {
      "cell_type": "code",
      "source": [
        "from sklearn.neighbors import KNeighborsClassifier\n",
        "import numpy as np\n",
        "from sklearn.metrics import f1_score\n",
        "neigh = KNeighborsClassifier(n_neighbors=1)\n",
        "neigh.fit(x_train, np.ravel(y_train))\n",
        "yhat_knn=neigh.predict(x_test)\n",
        "\n",
        "# To calculate the F1 value of K\n",
        "f1_score_k1 = f1_score(y_test, yhat_knn, average='weighted')\n",
        "print ('KNN=1 F1 score is:', f1_score_k1)\n",
        "\n",
        "#Let's calculate the test error\n",
        "test_error = mean_squared_error(y_test,yhat_knn)\n",
        "print(test_error)\n"
      ],
      "metadata": {
        "colab": {
          "base_uri": "https://localhost:8080/"
        },
        "id": "_3F2BK_GwzHY",
        "outputId": "662886d2-c420-415d-a1ca-4b7bc1997e58"
      },
      "execution_count": null,
      "outputs": [
        {
          "output_type": "stream",
          "name": "stdout",
          "text": [
            "KNN=1 F1 score is: 0.8671156004489338\n",
            "0.13333333333333333\n"
          ]
        }
      ]
    },
    {
      "cell_type": "code",
      "source": [
        "neigh = KNeighborsClassifier(n_neighbors=3)\n",
        "neigh.fit(x_train, np.ravel(y_train))\n",
        "yhat_knn3=neigh.predict(x_test)\n",
        "\n",
        "# To calculate the F1 value of K\n",
        "f1_score_k3 = f1_score(y_test, yhat_knn3, average='weighted')\n",
        "print ('KNN=3 F1 score is:', f1_score_k3)\n",
        "\n",
        "#Let's calculate the test error\n",
        "test_error = mean_squared_error(y_test,yhat_knn3)\n",
        "print(test_error)"
      ],
      "metadata": {
        "colab": {
          "base_uri": "https://localhost:8080/"
        },
        "id": "NHNwzmuiNxNX",
        "outputId": "f4cbd7c4-145a-4cbe-8d29-58965129bd2b"
      },
      "execution_count": null,
      "outputs": [
        {
          "output_type": "stream",
          "name": "stdout",
          "text": [
            "KNN=3 F1 score is: 0.8838206627680312\n",
            "0.11666666666666667\n"
          ]
        }
      ]
    },
    {
      "cell_type": "markdown",
      "source": [],
      "metadata": {
        "id": "nVkJTshBoH_z"
      }
    },
    {
      "cell_type": "code",
      "source": [
        "neigh = KNeighborsClassifier(n_neighbors=5)\n",
        "neigh.fit(x_train, np.ravel(y_train))\n",
        "yhat_knn5=neigh.predict(x_test)\n",
        "\n",
        "# To calculate the F1 value of K\n",
        "f1_score_k5 = f1_score(y_test, yhat_knn5, average='weighted')\n",
        "print ('KNN=5 F1 score is:', f1_score_k5)\n",
        "\n",
        "#Let's calculate the test error\n",
        "test_error = mean_squared_error(y_test,yhat_knn5)\n",
        "print(test_error)\n",
        "\n"
      ],
      "metadata": {
        "colab": {
          "base_uri": "https://localhost:8080/"
        },
        "id": "4U92f0hsoNzQ",
        "outputId": "548cbee4-51a5-4953-cd73-c66a7113fae8"
      },
      "execution_count": null,
      "outputs": [
        {
          "output_type": "stream",
          "name": "stdout",
          "text": [
            "KNN=5 F1 score is: 0.8338895068594735\n",
            "0.16666666666666666\n"
          ]
        }
      ]
    },
    {
      "cell_type": "code",
      "source": [
        "neigh = KNeighborsClassifier(n_neighbors=17)\n",
        "neigh.fit(x_train, np.ravel(y_train))\n",
        "yhat_knn17=neigh.predict(x_test)\n",
        "\n",
        "# To calculate the F1 value of K\n",
        "f1_score_k17 = f1_score(y_test, yhat_knn17, average='weighted')\n",
        "print ('KNN=17 F1 score is:', f1_score_k17)\n",
        "\n",
        "#Let's calculate the test error\n",
        "test_error = mean_squared_error(y_test,yhat_knn17)\n",
        "print(test_error)\n"
      ],
      "metadata": {
        "colab": {
          "base_uri": "https://localhost:8080/"
        },
        "id": "h4bMnSQSr2SL",
        "outputId": "9c251bd3-6ed6-48b7-9723-6b3d37cab323"
      },
      "execution_count": null,
      "outputs": [
        {
          "output_type": "stream",
          "name": "stdout",
          "text": [
            "KNN=17 F1 score is: 0.85062656641604\n",
            "0.15\n"
          ]
        }
      ]
    },
    {
      "cell_type": "code",
      "source": [
        "neigh = KNeighborsClassifier(n_neighbors=51)\n",
        "neigh.fit(x_train, np.ravel(y_train))\n",
        "yhat_knn51=neigh.predict(x_test)\n",
        "\n",
        "\n",
        "# To calculate the F1 value of K\n",
        "f1_score_k51 = f1_score(y_test, yhat_knn51, average='weighted')\n",
        "print ('KNN=51 F1 score is:', f1_score_k51)\n",
        "\n",
        "#Let's calculate the test error\n",
        "test_error = mean_squared_error(y_test,yhat_knn51)\n",
        "print(test_error)\n"
      ],
      "metadata": {
        "colab": {
          "base_uri": "https://localhost:8080/"
        },
        "id": "GLcTjdSvr18j",
        "outputId": "3c80062d-6936-422d-9d02-974c413454e7"
      },
      "execution_count": null,
      "outputs": [
        {
          "output_type": "stream",
          "name": "stdout",
          "text": [
            "KNN=51 F1 score is: 0.85062656641604\n",
            "0.15\n"
          ]
        }
      ]
    },
    {
      "cell_type": "code",
      "source": [
        "neigh = KNeighborsClassifier(n_neighbors=75)\n",
        "neigh.fit(x_train, np.ravel(y_train))\n",
        "yhat_knn75=neigh.predict(x_test)\n",
        "\n",
        "# To calculate the F1 value of K\n",
        "f1_score_k75 = f1_score(y_test, yhat_knn75, average='weighted')\n",
        "print ('KNN=75 F1 score is:', f1_score_k75)\n",
        "\n",
        "#Let's calculate the test error\n",
        "test_error = mean_squared_error(y_test,yhat_knn)\n",
        "print(test_error)\n"
      ],
      "metadata": {
        "colab": {
          "base_uri": "https://localhost:8080/"
        },
        "id": "oMxudSY6sDcx",
        "outputId": "4c91cda9-2820-4e28-ca89-a431aab1feb1"
      },
      "execution_count": null,
      "outputs": [
        {
          "output_type": "stream",
          "name": "stdout",
          "text": [
            "KNN=75 F1 score is: 0.834077380952381\n",
            "0.13333333333333333\n"
          ]
        }
      ]
    },
    {
      "cell_type": "code",
      "source": [
        "neigh = KNeighborsClassifier(n_neighbors=101)\n",
        "neigh.fit(x_train, np.ravel(y_train))\n",
        "yhat_knn101=neigh.predict(x_test)\n",
        "\n",
        "# To calculate the F1 value of K\n",
        "f1_score_k101 = f1_score(y_test, yhat_knn101, average='weighted')\n",
        "print ('KNN=101 F1 score is:', f1_score_k101)\n",
        "\n",
        "#Let's calculate the test error\n",
        "test_error = mean_squared_error(y_test,yhat_knn)\n",
        "print(test_error)\n",
        "\n",
        "\n",
        "#print(confusion_matrix(yhat_knn101, y_test ))\n",
        "#print(classification_report(yhat_knn101,y_test, digits=3))"
      ],
      "metadata": {
        "colab": {
          "base_uri": "https://localhost:8080/"
        },
        "id": "-YqFlVRFsI2Z",
        "outputId": "17701f71-1b79-4b9c-d1d1-343eb2dd4c22"
      },
      "execution_count": null,
      "outputs": [
        {
          "output_type": "stream",
          "name": "stdout",
          "text": [
            "KNN=101 F1 score is: 0.834077380952381\n",
            "0.13333333333333333\n"
          ]
        }
      ]
    },
    {
      "cell_type": "code",
      "source": [
        "import matplotlib.pyplot as plt \n",
        "f1s = []\n",
        "k_values=[1,3,5,17,51,75,101]\n",
        "# Calculating f1 score for K values between 1 and 101\n",
        "for i in k_values:\n",
        "    knn = KNeighborsClassifier(n_neighbors=i)\n",
        "    knn.fit(x_train, np.ravel(y_train))\n",
        "    pred_i = knn.predict(x_test)\n",
        "# using average='weighted' to calculate a weighted average for the 2 classes \n",
        "    f1s.append(f1_score(y_test, pred_i, average='weighted'))\n",
        "plt.figure(figsize=(20, 6))\n",
        "plt.plot(k_values, f1s, color='red', linestyle='dashed', marker='o',\n",
        "         markerfacecolor='blue', markersize=10)\n",
        "plt.title('F1 Score K Value')\n",
        "plt.xlabel('K Value')\n",
        "plt.ylabel('F1 Score')"
      ],
      "metadata": {
        "colab": {
          "base_uri": "https://localhost:8080/",
          "height": 421
        },
        "id": "Ek1RBFe1eSLR",
        "outputId": "06daae81-425e-4af9-fe28-6e5baa1ba1f7"
      },
      "execution_count": null,
      "outputs": [
        {
          "output_type": "execute_result",
          "data": {
            "text/plain": [
              "Text(0, 0.5, 'F1 Score')"
            ]
          },
          "metadata": {},
          "execution_count": 35
        },
        {
          "output_type": "display_data",
          "data": {
            "text/plain": [
              "<Figure size 1440x432 with 1 Axes>"
            ],
            "image/png": "[encoded data removed]"
          },
          "metadata": {
            "needs_background": "light"
          }
        }
      ]
    },
    {
      "cell_type": "markdown",
      "source": [
        "We choose K=3  Because this parameter allows us to find the best classifier with the less error rate which is 11.66% ."
      ],
      "metadata": {
        "id": "WlCbuHMiswef"
      }
    },
    {
      "cell_type": "code",
      "source": [
        "#We can now calculate the performance indicators for K= 3\n",
        "print(confusion_matrix(y_test, yhat_knn3 ))\n",
        "print(accuracy_score(y_test, yhat_knn3 ))\n",
        "print(classification_report(y_test, yhat_knn3, digits=3))"
      ],
      "metadata": {
        "colab": {
          "base_uri": "https://localhost:8080/"
        },
        "id": "lia4NA3E3CBO",
        "outputId": "53a42ecc-d448-4687-b058-34ae2c8e4c81"
      },
      "execution_count": null,
      "outputs": [
        {
          "output_type": "stream",
          "name": "stdout",
          "text": [
            "[[28  6]\n",
            " [ 1 25]]\n",
            "0.8833333333333333\n",
            "              precision    recall  f1-score   support\n",
            "\n",
            "           0      0.966     0.824     0.889        34\n",
            "           1      0.806     0.962     0.877        26\n",
            "\n",
            "    accuracy                          0.883        60\n",
            "   macro avg      0.886     0.893     0.883        60\n",
            "weighted avg      0.897     0.883     0.884        60\n",
            "\n"
          ]
        }
      ]
    },
    {
      "cell_type": "code",
      "source": [],
      "metadata": {
        "id": "HfP8xMgVs0H1"
      },
      "execution_count": null,
      "outputs": []
    },
    {
      "cell_type": "markdown",
      "source": [
        "**2.4 Discriminant Analysis**"
      ],
      "metadata": {
        "id": "j4C-HVhAoObH"
      }
    },
    {
      "cell_type": "code",
      "source": [
        "from sklearn.discriminant_analysis import LinearDiscriminantAnalysis\n",
        "lda = LinearDiscriminantAnalysis()\n",
        "model_lda = lda.fit(x_train, np.ravel(y_train))\n",
        "yhat_lda = model_lda.predict(x_test)\n",
        "\n",
        "# probabilities scores in the lda\n",
        "lda_scores= lda.predict_proba(x_test) [ : , 1 ]\n",
        "\n",
        "print(model_lda.priors_)\n",
        "print(model_lda.means_)\n",
        "#print(lda_scores)\n",
        "#print(yhat_lda)"
      ],
      "metadata": {
        "id": "6kckTKxGN8PF",
        "colab": {
          "base_uri": "https://localhost:8080/"
        },
        "outputId": "56d16626-76e0-45f0-fedb-ed33ba88a2ec"
      },
      "execution_count": null,
      "outputs": [
        {
          "output_type": "stream",
          "name": "stdout",
          "text": [
            "[0.48333333 0.51666667]\n",
            "[[   6.74137931  270.73275862  129.24137931 3585.03448276]\n",
            " [   4.15322581  112.25403226   77.85483871 2302.2016129 ]]\n"
          ]
        }
      ]
    },
    {
      "cell_type": "markdown",
      "source": [
        "(1) The prior probabilities for π0 is approximately 48% and for π1 is approximately 52% which represents the probabilities of each class (low mileage and high mileage) in the dataset. The probability of randomly chosing cars with low mileage (π0) is 48% while the probablity of choosing car with high milelage(π1) is 52%. \n",
        "The group means represents the mean of each of the predictors in our dataset."
      ],
      "metadata": {
        "id": "0xUtQA2UfA6T"
      }
    },
    {
      "cell_type": "markdown",
      "source": [
        "# New Section"
      ],
      "metadata": {
        "id": "F8YtD9i5hMic"
      }
    },
    {
      "cell_type": "markdown",
      "source": [
        "(2) The Test Error obtained is 15% as shown below:"
      ],
      "metadata": {
        "id": "8d-WtIJboMnh"
      }
    },
    {
      "cell_type": "code",
      "source": [
        "#Let's calculate the test error\n",
        "test_error = mean_squared_error(y_test,yhat_lda)\n",
        "print(test_error)"
      ],
      "metadata": {
        "colab": {
          "base_uri": "https://localhost:8080/"
        },
        "id": "wmreniG2krTY",
        "outputId": "a1a0b734-1cf1-4e01-cd63-54f2c4fd78a1"
      },
      "execution_count": null,
      "outputs": [
        {
          "output_type": "stream",
          "name": "stdout",
          "text": [
            "0.15\n"
          ]
        }
      ]
    },
    {
      "cell_type": "markdown",
      "source": [
        "(3) The QDA is performed below and the Test Error of the QDA model is 13.3%"
      ],
      "metadata": {
        "id": "rV4gAmidorBz"
      }
    },
    {
      "cell_type": "code",
      "source": [
        "#QDA\n",
        "from sklearn.discriminant_analysis import QuadraticDiscriminantAnalysis\n",
        "qda = QuadraticDiscriminantAnalysis()\n",
        "model_qda = qda.fit(x_train, np.ravel(y_train))\n",
        "# Prediction\n",
        "yhat_qda = model_qda.predict(x_test)\n",
        "# Qda probabilities scores\n",
        "qda_scores = qda.predict_proba(x_test)[:, 1]\n",
        "#print(model_qda.priors_)\n",
        "#print(model_qda.means_)\n",
        "#print(yhat_qda)\n",
        "\n",
        "#Test error\n",
        "test_error = mean_squared_error(y_test,yhat_qda)\n",
        "print(test_error)"
      ],
      "metadata": {
        "colab": {
          "base_uri": "https://localhost:8080/"
        },
        "id": "bOTo_k39mlN9",
        "outputId": "bc414d87-52f6-4fb0-aba2-cac6fd5c755b"
      },
      "execution_count": null,
      "outputs": [
        {
          "output_type": "stream",
          "name": "stdout",
          "text": [
            "0.13333333333333333\n"
          ]
        }
      ]
    },
    {
      "cell_type": "markdown",
      "source": [
        "(4) Confusion Matrix for the LDA and QDA models"
      ],
      "metadata": {
        "id": "KfOGAS5qpa6S"
      }
    },
    {
      "cell_type": "code",
      "source": [
        "from sklearn.metrics import recall_score\n",
        "\n",
        "#LDA confusion matrix\n",
        "conf = confusion_matrix(y_test, yhat_lda)\n",
        "print(confusion_matrix(y_test, yhat_lda))\n",
        "print(classification_report(y_test, yhat_lda,  digits=3))\n",
        "\n",
        "\n",
        "sensitivity1 = conf[1,1]/(conf[1,1]+conf[1,0])\n",
        "print('Sensitivity for LDA: ', sensitivity1 )\n",
        "print(\"The Sensitivity of LDA model = \", round(recall_score(y_test,yhat_lda),4)*100,\"%\")\n",
        "\n",
        "\n",
        "specificity1 = conf[0,0]/(conf[0,0]+conf[0,1])\n",
        "print('Specificity for LDA : ', specificity1)\n",
        "\n",
        "#sensitivity\n",
        "#specificity\n",
        "\n",
        "#QDA confusion matrix\n",
        "conf1 = confusion_matrix(y_test, yhat_qda)\n",
        "print(confusion_matrix(y_test, yhat_qda))\n",
        "print(classification_report(y_test, yhat_qda, digits=3))\n",
        "\n",
        "#sensitivity\n",
        "sensitivity2 = conf1[1,1]/(conf1[1,1]+conf1[1,0])\n",
        "print('Sensitivity : ', sensitivity2 )\n",
        "print(\"The Sensitivity of QDA model = \", round(recall_score(y_test,yhat_qda),4)*100,\"%\")\n",
        "\n",
        "#specificity\n",
        "specificity2 = conf1[0,0]/(conf1[0,0]+conf1[0,1])\n",
        "print('Specificity : ', specificity2)"
      ],
      "metadata": {
        "colab": {
          "base_uri": "https://localhost:8080/"
        },
        "id": "lwz8wZc_qbI_",
        "outputId": "9278008c-6e5d-4d53-eb4d-70c2d99fb8d9"
      },
      "execution_count": null,
      "outputs": [
        {
          "output_type": "stream",
          "name": "stdout",
          "text": [
            "[[26  8]\n",
            " [ 1 25]]\n",
            "              precision    recall  f1-score   support\n",
            "\n",
            "           0      0.963     0.765     0.852        34\n",
            "           1      0.758     0.962     0.847        26\n",
            "\n",
            "    accuracy                          0.850        60\n",
            "   macro avg      0.860     0.863     0.850        60\n",
            "weighted avg      0.874     0.850     0.850        60\n",
            "\n",
            "Sensitivity for LDA:  0.9615384615384616\n",
            "The Sensitivity of LDA model =  96.15 %\n",
            "Specificity for LDA :  0.7647058823529411\n",
            "[[28  6]\n",
            " [ 2 24]]\n",
            "              precision    recall  f1-score   support\n",
            "\n",
            "           0      0.933     0.824     0.875        34\n",
            "           1      0.800     0.923     0.857        26\n",
            "\n",
            "    accuracy                          0.867        60\n",
            "   macro avg      0.867     0.873     0.866        60\n",
            "weighted avg      0.876     0.867     0.867        60\n",
            "\n",
            "Sensitivity :  0.9230769230769231\n",
            "The Sensitivity of QDA model =  92.31 %\n",
            "Specificity :  0.8235294117647058\n"
          ]
        }
      ]
    },
    {
      "cell_type": "markdown",
      "source": [
        "(5) Discriminant analysis using the naive Bayes classi\fer"
      ],
      "metadata": {
        "id": "gtzLs3JJqc2v"
      }
    },
    {
      "cell_type": "code",
      "source": [
        "#LDA and QDA using the naive bayes classifier \n",
        "from sklearn.naive_bayes import GaussianNB\n",
        "gnb = GaussianNB()\n",
        "model_gnb = gnb.fit(x_train, np.ravel(y_train))\n",
        "\n",
        "# Prediction\n",
        "yhat_gnb = model_gnb.predict(x_test)\n",
        "\n",
        "# NB scores\n",
        "gnb_scores = gnb.predict_proba(x_test)[:, 1]\n",
        "\n",
        "#Test error\n",
        "test_error = mean_squared_error(y_test,yhat_gnb)\n",
        "print(test_error)\n",
        "#print(yhat_gnb)\n",
        "\n",
        "#Naive Bayes  confusion matrix\n",
        "conf_gnb = confusion_matrix(y_test, yhat_gnb)\n",
        "print(confusion_matrix(y_test, yhat_gnb))\n",
        "print(classification_report(y_test, yhat_gnb, digits=3))\n",
        "\n",
        "#sensitivity\n",
        "sensitivity_gnb = conf_gnb[1,1]/(conf_gnb[1,1]+conf_gnb[1,0])\n",
        "print('Sensitivity for LDA: ', sensitivity_gnb )\n",
        "print(\"The Sensitivity of LDA model = \", round(recall_score(y_test,yhat_gnb),4)*100,\"%\")\n",
        "\n",
        "#specificity\n",
        "specificity_gnb = conf_gnb[0,0]/(conf_gnb[0,0]+conf_gnb[0,1])\n",
        "print('Specificity : ', specificity_gnb)\n",
        "\n"
      ],
      "metadata": {
        "id": "nc2IN6E2t_U6",
        "colab": {
          "base_uri": "https://localhost:8080/"
        },
        "outputId": "30aee088-7b63-484e-b7f2-5c416d7f3b06"
      },
      "execution_count": null,
      "outputs": [
        {
          "output_type": "stream",
          "name": "stdout",
          "text": [
            "0.13333333333333333\n",
            "[[28  6]\n",
            " [ 2 24]]\n",
            "              precision    recall  f1-score   support\n",
            "\n",
            "           0      0.933     0.824     0.875        34\n",
            "           1      0.800     0.923     0.857        26\n",
            "\n",
            "    accuracy                          0.867        60\n",
            "   macro avg      0.867     0.873     0.866        60\n",
            "weighted avg      0.876     0.867     0.867        60\n",
            "\n",
            "Sensitivity for LDA:  0.9230769230769231\n",
            "The Sensitivity of LDA model =  92.31 %\n",
            "Specificity :  0.8235294117647058\n"
          ]
        }
      ]
    },
    {
      "cell_type": "code",
      "source": [],
      "metadata": {
        "id": "Xz3wCR1P_0hk"
      },
      "execution_count": null,
      "outputs": []
    },
    {
      "cell_type": "markdown",
      "source": [],
      "metadata": {
        "id": "INlsVS7f3Ety"
      }
    },
    {
      "cell_type": "markdown",
      "source": [
        "2.5 ROC Curve\n"
      ],
      "metadata": {
        "id": "1j_J50pv3GUJ"
      }
    },
    {
      "cell_type": "code",
      "source": [
        "# Plot ROC Curve calculations\n",
        "# AUC for LDA\n",
        "from sklearn.metrics import roc_curve, auc\n",
        "fpr_lda, tpr_lda, thresholds_lda = roc_curve(y_test, lda_scores)\n",
        "lda_auc = auc(fpr_lda, tpr_lda)\n",
        "print (fpr_lda)\n",
        "print (tpr_lda)\n",
        "print ('The Area Under the Curve for LDA is:',lda_auc)\n",
        "\n",
        "# AUC for QDA\n",
        "fpr_qda, tpr_qda, thresholds_qda = roc_curve(y_test, qda_scores)\n",
        "qda_auc = auc(fpr_qda, tpr_qda)\n",
        "print ('The Area Under the Curve for QDA is:',qda_auc)\n",
        "\n",
        "# AUC for Naive Bayes\n",
        "fpr_gnb, tpr_gnb, thresholds_gnb = roc_curve(y_test, gnb_scores)\n",
        "gnb_auc = auc(fpr_gnb, tpr_gnb)\n",
        "print ('The Area Under the Curve for Naive Bayes is:', gnb_auc)\n",
        "\n",
        "# AUC for Logistic regression, LR\n",
        "logreg_scores = logreg.predict(x_test)\n",
        "fpr_lr, tpr_lr, thresholds_lr = roc_curve(y_test, logreg_scores)\n",
        "lr_auc = auc(fpr_lr, tpr_lr)\n",
        "print ('The Area Under the Curve for Logistic Regression is:', lr_auc)\n",
        "\n",
        "# AUC for KNN = 3\n",
        "neigh = KNeighborsClassifier(n_neighbors=3)\n",
        "neigh.fit(x_train, np.ravel(y_train))\n",
        "knn3_scores=neigh.predict_proba(x_test)[:, 1]\n",
        "fpr_knn, tpr_knn, thresholds_knn = roc_curve(y_test, knn3_scores)\n",
        "knn_auc = auc(fpr_knn, tpr_knn)\n",
        "print ('The Area Under the Curve for KNN at 3 is:', knn_auc)"
      ],
      "metadata": {
        "colab": {
          "base_uri": "https://localhost:8080/"
        },
        "id": "jnTBeVch3L7k",
        "outputId": "97ffcb06-043a-4f3e-e896-3991a079f74d"
      },
      "execution_count": null,
      "outputs": [
        {
          "output_type": "stream",
          "name": "stdout",
          "text": [
            "[0.         0.02941176 0.02941176 0.14705882 0.14705882 0.20588235\n",
            " 0.20588235 0.29411765 0.29411765 1.        ]\n",
            "[0.         0.         0.65384615 0.65384615 0.92307692 0.92307692\n",
            " 0.96153846 0.96153846 1.         1.        ]\n",
            "The Area Under the Curve for LDA is: 0.921945701357466\n",
            "The Area Under the Curve for QDA is: 0.9185520361990951\n",
            "The Area Under the Curve for Naive Bayes is: 0.9411764705882353\n",
            "The Area Under the Curve for Logistic Regression is: 0.9434389140271493\n",
            "The Area Under the Curve for KNN at 3 is: 0.9281674208144796\n"
          ]
        }
      ]
    },
    {
      "cell_type": "code",
      "source": [
        "plt.figure(figsize=(12, 9))\n",
        "plt.plot(fpr_lda, tpr_lda, color='orange', lw=2, label='ROC Curve (auc = %0.3f)' %lda_auc)\n",
        "plt.plot(fpr_qda, tpr_qda, color='red', lw=2, label='ROC Curve (auc = %0.3f)' %qda_auc)\n",
        "plt.plot(fpr_gnb, tpr_gnb, color='green', lw=2, label='ROC Curve (auc = %0.3f)' %gnb_auc)\n",
        "plt.plot(fpr_lr, tpr_lr, color='blue', lw=2, label='ROC Curve (auc = %0.3f)' %lr_auc)\n",
        "plt.plot(fpr_knn, tpr_knn, color='black', lw=2, label='ROC Curve (auc = %0.3f)' %knn_auc)\n",
        "plt.plot([0,1], [0,1], color='navy', lw=2, linestyle='--')\n",
        "plt.xlim([0.0, 1.0])\n",
        "plt.ylim([0.0, 1.05])\n",
        "plt.xlabel ('False Positive Rate')\n",
        "plt.ylabel ('True Positive Rate')\n",
        "plt.title ('ROC curve LDA, QDA, Naive Bayes, LR and KNN')\n",
        "plt.legend(loc=\"lower right\")\n",
        "plt.show()"
      ],
      "metadata": {
        "colab": {
          "base_uri": "https://localhost:8080/",
          "height": 567
        },
        "id": "QRsV81Ut3-pb",
        "outputId": "7a3c1494-b0f2-4e4c-9bdc-6becaffc46ae"
      },
      "execution_count": null,
      "outputs": [
        {
          "output_type": "display_data",
          "data": {
            "text/plain": [
              "<Figure size 864x648 with 1 Axes>"
            ],
            "image/png": "[encoded data removed]"
          },
          "metadata": {
            "needs_background": "light"
          }
        }
      ]
    },
    {
      "cell_type": "code",
      "source": [],
      "metadata": {
        "id": "W4X_SmfGCFqa"
      },
      "execution_count": null,
      "outputs": []
    }
  ],
  "metadata": {
    "colab": {
      "collapsed_sections": [],
      "provenance": [],
      "include_colab_link": true
    },
    "kernelspec": {
      "display_name": "Python 3",
      "name": "python3"
    },
    "language_info": {
      "name": "python"
    }
  },
  "nbformat": 4,
  "nbformat_minor": 0
}